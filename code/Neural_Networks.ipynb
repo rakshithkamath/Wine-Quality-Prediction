{
 "cells": [
  {
   "cell_type": "markdown",
   "metadata": {
    "id": "vJFPcg6YG-o4"
   },
   "source": [
    "**Prediction of Wine Quality based on its Manufacturing Ingredients**"
   ]
  },
  {
   "cell_type": "markdown",
   "metadata": {
    "id": "mFooBPjEHN1X"
   },
   "source": [
    "## 1. Data Importing and Initial Exploration"
   ]
  },
  {
   "cell_type": "code",
   "execution_count": 1,
   "metadata": {
    "executionInfo": {
     "elapsed": 967,
     "status": "ok",
     "timestamp": 1650684584533,
     "user": {
      "displayName": "Rakshith Kamath",
      "userId": "14837425540993351045"
     },
     "user_tz": 240
    },
    "id": "sI3GujVh7j2G"
   },
   "outputs": [],
   "source": [
    "# from google.colab import drive\n",
    "import pandas as pd\n",
    "import matplotlib.pyplot as plt\n",
    "import seaborn as sns\n",
    "from sklearn.preprocessing import MinMaxScaler,StandardScaler\n",
    "from sklearn.model_selection import train_test_split\n",
    "from sklearn.ensemble import RandomForestRegressor\n",
    "from sklearn.metrics import mean_squared_error\n",
    "from sklearn import model_selection\n",
    "from pprint import pprint\n",
    "from sklearn.compose import make_column_transformer\n",
    "from sklearn.pipeline import Pipeline\n",
    "from sklearn.linear_model import LogisticRegression\n",
    "from sklearn.model_selection import GridSearchCV\n",
    "import numpy as np\n",
    "from sklearn.metrics import plot_confusion_matrix\n",
    "from sklearn.svm import SVC\n",
    "from sklearn.metrics import confusion_matrix, roc_curve, precision_recall_curve,auc,average_precision_score,classification_report,roc_auc_score,log_loss\n",
    "import imblearn\n",
    "from imblearn.over_sampling import SMOTE\n",
    "from imblearn.pipeline import make_pipeline\n"
   ]
  },
  {
   "cell_type": "code",
   "execution_count": 2,
   "metadata": {
    "executionInfo": {
     "elapsed": 3,
     "status": "ok",
     "timestamp": 1650684584534,
     "user": {
      "displayName": "Rakshith Kamath",
      "userId": "14837425540993351045"
     },
     "user_tz": 240
    },
    "id": "6JNhSbh5r2X_"
   },
   "outputs": [],
   "source": [
    "import warnings\n",
    "\n",
    "def fxn():\n",
    "    warnings.warn(\"deprecated\", DeprecationWarning)\n",
    "\n",
    "with warnings.catch_warnings():\n",
    "    warnings.simplefilter(\"ignore\")\n",
    "    fxn()\n",
    "\n",
    "from warnings import simplefilter\n",
    "from sklearn.exceptions import ConvergenceWarning\n",
    "simplefilter(\"ignore\", category=ConvergenceWarning)"
   ]
  },
  {
   "cell_type": "code",
   "execution_count": 96,
   "metadata": {
    "colab": {
     "base_uri": "https://localhost:8080/",
     "height": 267
    },
    "executionInfo": {
     "elapsed": 237,
     "status": "ok",
     "timestamp": 1650684584768,
     "user": {
      "displayName": "Rakshith Kamath",
      "userId": "14837425540993351045"
     },
     "user_tz": 240
    },
    "id": "UNdGexLvcjtA",
    "outputId": "486bb847-c89d-4aba-b6f4-f93541f7c3ed",
    "scrolled": true
   },
   "outputs": [
    {
     "data": {
      "text/html": [
       "<div>\n",
       "<style scoped>\n",
       "    .dataframe tbody tr th:only-of-type {\n",
       "        vertical-align: middle;\n",
       "    }\n",
       "\n",
       "    .dataframe tbody tr th {\n",
       "        vertical-align: top;\n",
       "    }\n",
       "\n",
       "    .dataframe thead th {\n",
       "        text-align: right;\n",
       "    }\n",
       "</style>\n",
       "<table border=\"1\" class=\"dataframe\">\n",
       "  <thead>\n",
       "    <tr style=\"text-align: right;\">\n",
       "      <th></th>\n",
       "      <th>type</th>\n",
       "      <th>fixed acidity</th>\n",
       "      <th>volatile acidity</th>\n",
       "      <th>citric acid</th>\n",
       "      <th>residual sugar</th>\n",
       "      <th>chlorides</th>\n",
       "      <th>free sulfur dioxide</th>\n",
       "      <th>total sulfur dioxide</th>\n",
       "      <th>density</th>\n",
       "      <th>pH</th>\n",
       "      <th>sulphates</th>\n",
       "      <th>alcohol</th>\n",
       "      <th>quality</th>\n",
       "    </tr>\n",
       "  </thead>\n",
       "  <tbody>\n",
       "    <tr>\n",
       "      <th>0</th>\n",
       "      <td>white</td>\n",
       "      <td>7.0</td>\n",
       "      <td>0.27</td>\n",
       "      <td>0.36</td>\n",
       "      <td>20.7</td>\n",
       "      <td>0.045</td>\n",
       "      <td>45.0</td>\n",
       "      <td>170.0</td>\n",
       "      <td>1.0010</td>\n",
       "      <td>3.00</td>\n",
       "      <td>0.45</td>\n",
       "      <td>8.8</td>\n",
       "      <td>6</td>\n",
       "    </tr>\n",
       "    <tr>\n",
       "      <th>1</th>\n",
       "      <td>white</td>\n",
       "      <td>6.3</td>\n",
       "      <td>0.30</td>\n",
       "      <td>0.34</td>\n",
       "      <td>1.6</td>\n",
       "      <td>0.049</td>\n",
       "      <td>14.0</td>\n",
       "      <td>132.0</td>\n",
       "      <td>0.9940</td>\n",
       "      <td>3.30</td>\n",
       "      <td>0.49</td>\n",
       "      <td>9.5</td>\n",
       "      <td>6</td>\n",
       "    </tr>\n",
       "    <tr>\n",
       "      <th>2</th>\n",
       "      <td>white</td>\n",
       "      <td>8.1</td>\n",
       "      <td>0.28</td>\n",
       "      <td>0.40</td>\n",
       "      <td>6.9</td>\n",
       "      <td>0.050</td>\n",
       "      <td>30.0</td>\n",
       "      <td>97.0</td>\n",
       "      <td>0.9951</td>\n",
       "      <td>3.26</td>\n",
       "      <td>0.44</td>\n",
       "      <td>10.1</td>\n",
       "      <td>6</td>\n",
       "    </tr>\n",
       "    <tr>\n",
       "      <th>3</th>\n",
       "      <td>white</td>\n",
       "      <td>7.2</td>\n",
       "      <td>0.23</td>\n",
       "      <td>0.32</td>\n",
       "      <td>8.5</td>\n",
       "      <td>0.058</td>\n",
       "      <td>47.0</td>\n",
       "      <td>186.0</td>\n",
       "      <td>0.9956</td>\n",
       "      <td>3.19</td>\n",
       "      <td>0.40</td>\n",
       "      <td>9.9</td>\n",
       "      <td>6</td>\n",
       "    </tr>\n",
       "    <tr>\n",
       "      <th>4</th>\n",
       "      <td>white</td>\n",
       "      <td>7.2</td>\n",
       "      <td>0.23</td>\n",
       "      <td>0.32</td>\n",
       "      <td>8.5</td>\n",
       "      <td>0.058</td>\n",
       "      <td>47.0</td>\n",
       "      <td>186.0</td>\n",
       "      <td>0.9956</td>\n",
       "      <td>3.19</td>\n",
       "      <td>0.40</td>\n",
       "      <td>9.9</td>\n",
       "      <td>6</td>\n",
       "    </tr>\n",
       "  </tbody>\n",
       "</table>\n",
       "</div>"
      ],
      "text/plain": [
       "    type  fixed acidity  volatile acidity  citric acid  residual sugar  \\\n",
       "0  white            7.0              0.27         0.36            20.7   \n",
       "1  white            6.3              0.30         0.34             1.6   \n",
       "2  white            8.1              0.28         0.40             6.9   \n",
       "3  white            7.2              0.23         0.32             8.5   \n",
       "4  white            7.2              0.23         0.32             8.5   \n",
       "\n",
       "   chlorides  free sulfur dioxide  total sulfur dioxide  density    pH  \\\n",
       "0      0.045                 45.0                 170.0   1.0010  3.00   \n",
       "1      0.049                 14.0                 132.0   0.9940  3.30   \n",
       "2      0.050                 30.0                  97.0   0.9951  3.26   \n",
       "3      0.058                 47.0                 186.0   0.9956  3.19   \n",
       "4      0.058                 47.0                 186.0   0.9956  3.19   \n",
       "\n",
       "   sulphates  alcohol  quality  \n",
       "0       0.45      8.8        6  \n",
       "1       0.49      9.5        6  \n",
       "2       0.44     10.1        6  \n",
       "3       0.40      9.9        6  \n",
       "4       0.40      9.9        6  "
      ]
     },
     "execution_count": 96,
     "metadata": {},
     "output_type": "execute_result"
    }
   ],
   "source": [
    "df = pd.read_csv('https://raw.githubusercontent.com/rjrahul24/AppliedML-Project/main/winequalityN.csv',sep = \",\")\n",
    "df.head()"
   ]
  },
  {
   "cell_type": "markdown",
   "metadata": {
    "id": "i3zpUI0PyqL0"
   },
   "source": [
    "## 2. Data Split and Preparation"
   ]
  },
  {
   "cell_type": "code",
   "execution_count": 97,
   "metadata": {
    "colab": {
     "base_uri": "https://localhost:8080/",
     "height": 267
    },
    "executionInfo": {
     "elapsed": 8,
     "status": "ok",
     "timestamp": 1650684585294,
     "user": {
      "displayName": "Rakshith Kamath",
      "userId": "14837425540993351045"
     },
     "user_tz": 240
    },
    "id": "3FpAsxgPgBWt",
    "outputId": "48ecce1e-e3db-415a-9141-b91beddebc7e",
    "scrolled": true
   },
   "outputs": [
    {
     "data": {
      "text/html": [
       "<div>\n",
       "<style scoped>\n",
       "    .dataframe tbody tr th:only-of-type {\n",
       "        vertical-align: middle;\n",
       "    }\n",
       "\n",
       "    .dataframe tbody tr th {\n",
       "        vertical-align: top;\n",
       "    }\n",
       "\n",
       "    .dataframe thead th {\n",
       "        text-align: right;\n",
       "    }\n",
       "</style>\n",
       "<table border=\"1\" class=\"dataframe\">\n",
       "  <thead>\n",
       "    <tr style=\"text-align: right;\">\n",
       "      <th></th>\n",
       "      <th>type</th>\n",
       "      <th>fixed acidity</th>\n",
       "      <th>volatile acidity</th>\n",
       "      <th>citric acid</th>\n",
       "      <th>residual sugar</th>\n",
       "      <th>chlorides</th>\n",
       "      <th>free sulfur dioxide</th>\n",
       "      <th>total sulfur dioxide</th>\n",
       "      <th>density</th>\n",
       "      <th>pH</th>\n",
       "      <th>sulphates</th>\n",
       "      <th>alcohol</th>\n",
       "      <th>quality</th>\n",
       "    </tr>\n",
       "  </thead>\n",
       "  <tbody>\n",
       "    <tr>\n",
       "      <th>0</th>\n",
       "      <td>1</td>\n",
       "      <td>7.0</td>\n",
       "      <td>0.27</td>\n",
       "      <td>0.36</td>\n",
       "      <td>20.7</td>\n",
       "      <td>0.045</td>\n",
       "      <td>45.0</td>\n",
       "      <td>170.0</td>\n",
       "      <td>1.0010</td>\n",
       "      <td>3.00</td>\n",
       "      <td>0.45</td>\n",
       "      <td>8.8</td>\n",
       "      <td>6</td>\n",
       "    </tr>\n",
       "    <tr>\n",
       "      <th>1</th>\n",
       "      <td>1</td>\n",
       "      <td>6.3</td>\n",
       "      <td>0.30</td>\n",
       "      <td>0.34</td>\n",
       "      <td>1.6</td>\n",
       "      <td>0.049</td>\n",
       "      <td>14.0</td>\n",
       "      <td>132.0</td>\n",
       "      <td>0.9940</td>\n",
       "      <td>3.30</td>\n",
       "      <td>0.49</td>\n",
       "      <td>9.5</td>\n",
       "      <td>6</td>\n",
       "    </tr>\n",
       "    <tr>\n",
       "      <th>2</th>\n",
       "      <td>1</td>\n",
       "      <td>8.1</td>\n",
       "      <td>0.28</td>\n",
       "      <td>0.40</td>\n",
       "      <td>6.9</td>\n",
       "      <td>0.050</td>\n",
       "      <td>30.0</td>\n",
       "      <td>97.0</td>\n",
       "      <td>0.9951</td>\n",
       "      <td>3.26</td>\n",
       "      <td>0.44</td>\n",
       "      <td>10.1</td>\n",
       "      <td>6</td>\n",
       "    </tr>\n",
       "    <tr>\n",
       "      <th>3</th>\n",
       "      <td>1</td>\n",
       "      <td>7.2</td>\n",
       "      <td>0.23</td>\n",
       "      <td>0.32</td>\n",
       "      <td>8.5</td>\n",
       "      <td>0.058</td>\n",
       "      <td>47.0</td>\n",
       "      <td>186.0</td>\n",
       "      <td>0.9956</td>\n",
       "      <td>3.19</td>\n",
       "      <td>0.40</td>\n",
       "      <td>9.9</td>\n",
       "      <td>6</td>\n",
       "    </tr>\n",
       "    <tr>\n",
       "      <th>4</th>\n",
       "      <td>1</td>\n",
       "      <td>7.2</td>\n",
       "      <td>0.23</td>\n",
       "      <td>0.32</td>\n",
       "      <td>8.5</td>\n",
       "      <td>0.058</td>\n",
       "      <td>47.0</td>\n",
       "      <td>186.0</td>\n",
       "      <td>0.9956</td>\n",
       "      <td>3.19</td>\n",
       "      <td>0.40</td>\n",
       "      <td>9.9</td>\n",
       "      <td>6</td>\n",
       "    </tr>\n",
       "  </tbody>\n",
       "</table>\n",
       "</div>"
      ],
      "text/plain": [
       "   type  fixed acidity  volatile acidity  citric acid  residual sugar  \\\n",
       "0     1            7.0              0.27         0.36            20.7   \n",
       "1     1            6.3              0.30         0.34             1.6   \n",
       "2     1            8.1              0.28         0.40             6.9   \n",
       "3     1            7.2              0.23         0.32             8.5   \n",
       "4     1            7.2              0.23         0.32             8.5   \n",
       "\n",
       "   chlorides  free sulfur dioxide  total sulfur dioxide  density    pH  \\\n",
       "0      0.045                 45.0                 170.0   1.0010  3.00   \n",
       "1      0.049                 14.0                 132.0   0.9940  3.30   \n",
       "2      0.050                 30.0                  97.0   0.9951  3.26   \n",
       "3      0.058                 47.0                 186.0   0.9956  3.19   \n",
       "4      0.058                 47.0                 186.0   0.9956  3.19   \n",
       "\n",
       "   sulphates  alcohol  quality  \n",
       "0       0.45      8.8        6  \n",
       "1       0.49      9.5        6  \n",
       "2       0.44     10.1        6  \n",
       "3       0.40      9.9        6  \n",
       "4       0.40      9.9        6  "
      ]
     },
     "execution_count": 97,
     "metadata": {},
     "output_type": "execute_result"
    }
   ],
   "source": [
    "df = df.dropna(axis=0)\n",
    "df = df.replace('red', 0)\n",
    "df = df.replace('white', 1)\n",
    "df.head()"
   ]
  },
  {
   "cell_type": "code",
   "execution_count": 98,
   "metadata": {
    "executionInfo": {
     "elapsed": 91,
     "status": "ok",
     "timestamp": 1650684749202,
     "user": {
      "displayName": "Rakshith Kamath",
      "userId": "14837425540993351045"
     },
     "user_tz": 240
    },
    "id": "p1pHBa83xwZo"
   },
   "outputs": [],
   "source": [
    "def quality_to_label(x):\n",
    "  if x<7:\n",
    "    return 'Not good'\n",
    "  else:\n",
    "    return 'Good'"
   ]
  },
  {
   "cell_type": "code",
   "execution_count": 99,
   "metadata": {
    "executionInfo": {
     "elapsed": 90,
     "status": "ok",
     "timestamp": 1650684749202,
     "user": {
      "displayName": "Rakshith Kamath",
      "userId": "14837425540993351045"
     },
     "user_tz": 240
    },
    "id": "dQHGIqMey29W"
   },
   "outputs": [],
   "source": [
    "X = df[['type', 'fixed acidity','volatile acidity','citric acid','residual sugar','chlorides','free sulfur dioxide', 'total sulfur dioxide', 'density','pH','sulphates','alcohol']]\n",
    "y = df.quality.apply(lambda x: quality_to_label(x))\n",
    "\n",
    "X_train, X_test, y_train, y_test = train_test_split(X, y, train_size = 0.8, random_state = 42)\n",
    "\n",
    "X_dev, X_val, y_dev, y_val = train_test_split(X_train, y_train, train_size = 0.8, random_state = 42)"
   ]
  },
  {
   "cell_type": "markdown",
   "metadata": {
    "id": "l_1nugXvn8Ol"
   },
   "source": [
    "**PreProcessing**"
   ]
  },
  {
   "cell_type": "code",
   "execution_count": 100,
   "metadata": {
    "executionInfo": {
     "elapsed": 13,
     "status": "ok",
     "timestamp": 1650684749202,
     "user": {
      "displayName": "Rakshith Kamath",
      "userId": "14837425540993351045"
     },
     "user_tz": 240
    },
    "id": "tfNsAi-NPEL4"
   },
   "outputs": [],
   "source": [
    "scaler = MinMaxScaler()\n",
    "# Reconstructing the dataset\n",
    "feature_names=['type', 'fixed acidity',\n",
    "               'volatile acidity','citric acid',\n",
    "               'residual sugar','chlorides',\n",
    "               'free sulfur dioxide', 'total sulfur dioxide',\n",
    "               'density','pH',\n",
    "               'sulphates','alcohol']\n",
    "preprocess = make_column_transformer((StandardScaler(),feature_names))"
   ]
  },
  {
   "cell_type": "markdown",
   "metadata": {
    "id": "ec308PLjhtBK"
   },
   "source": [
    "## 3. Neural Network"
   ]
  },
  {
   "cell_type": "markdown",
   "metadata": {},
   "source": [
    "**MLPClassifier**"
   ]
  },
  {
   "cell_type": "code",
   "execution_count": 9,
   "metadata": {},
   "outputs": [],
   "source": [
    "from sklearn.neural_network import MLPClassifier"
   ]
  },
  {
   "cell_type": "code",
   "execution_count": 13,
   "metadata": {},
   "outputs": [
    {
     "data": {
      "text/plain": [
       "GridSearchCV(cv=5, error_score='raise',\n",
       "             estimator=Pipeline(steps=[('preprocess',\n",
       "                                        ColumnTransformer(transformers=[('standardscaler',\n",
       "                                                                         StandardScaler(),\n",
       "                                                                         ['type',\n",
       "                                                                          'fixed '\n",
       "                                                                          'acidity',\n",
       "                                                                          'volatile '\n",
       "                                                                          'acidity',\n",
       "                                                                          'citric '\n",
       "                                                                          'acid',\n",
       "                                                                          'residual '\n",
       "                                                                          'sugar',\n",
       "                                                                          'chlorides',\n",
       "                                                                          'free '\n",
       "                                                                          'sulfur '\n",
       "                                                                          'dioxide',\n",
       "                                                                          'total '\n",
       "                                                                          'sulfur '\n",
       "                                                                          'dioxide',\n",
       "                                                                          'density',\n",
       "                                                                          'pH',\n",
       "                                                                          'sulphates',\n",
       "                                                                          'alcohol'])])),\n",
       "                                       ('MLPC', MLPClassifier())]),\n",
       "             param_grid={'MLPC__alpha': [0.0001, 0.0005, 0.001],\n",
       "                         'MLPC__hidden_layer_sizes': [(128,), (128, 64),\n",
       "                                                      (128, 64, 32)],\n",
       "                         'MLPC__learning_rate_init': [0.001, 0.005, 0.01],\n",
       "                         'MLPC__max_iter': [50, 100, 200]})"
      ]
     },
     "execution_count": 13,
     "metadata": {},
     "output_type": "execute_result"
    }
   ],
   "source": [
    "MLPC_pipe = Pipeline(steps=[('preprocess', preprocess), ('MLPC', MLPClassifier())])\n",
    "param_grid_MLPC = {\n",
    "    'MLPC__hidden_layer_sizes': [(128,), (128, 64,), (128, 64, 32,)],\n",
    "    'MLPC__alpha': [0.0001, 0.0005, 0.001],\n",
    "    'MLPC__learning_rate_init': [0.001, 0.005, 0.01],\n",
    "    'MLPC__max_iter': [50, 100, 200]\n",
    "    }\n",
    "MLPC_cv = GridSearchCV(\n",
    "    MLPC_pipe,\n",
    "    param_grid = param_grid_MLPC,\n",
    "    cv = 5,\n",
    "    error_score='raise')\n",
    "\n",
    "MLPC_cv.fit(X_train, y_train)"
   ]
  },
  {
   "cell_type": "code",
   "execution_count": 15,
   "metadata": {},
   "outputs": [
    {
     "name": "stdout",
     "output_type": "stream",
     "text": [
      "Best Parameters: {'MLPC__alpha': 0.0005, 'MLPC__hidden_layer_sizes': (128, 64), 'MLPC__learning_rate_init': 0.01, 'MLPC__max_iter': 100}\n",
      "Best Score: 0.8686653771760156\n"
     ]
    }
   ],
   "source": [
    "print('Best Parameters:', MLPC_cv.best_params_)\n",
    "print('Best Score:', MLPC_cv.best_score_)"
   ]
  },
  {
   "cell_type": "markdown",
   "metadata": {},
   "source": [
    "Evaluate model on test data."
   ]
  },
  {
   "cell_type": "code",
   "execution_count": 101,
   "metadata": {},
   "outputs": [
    {
     "name": "stdout",
     "output_type": "stream",
     "text": [
      "Test accuracy: 0.848414539829853\n"
     ]
    }
   ],
   "source": [
    "y_pred_MLPC = MLPC_cv.predict(X_test)\n",
    "accuracy_MLPC = np.count_nonzero(y_pred_MLPC == y_test) / y_test.shape[0]\n",
    "print('Test accuracy:', accuracy_MLPC)"
   ]
  },
  {
   "cell_type": "code",
   "execution_count": 102,
   "metadata": {
    "scrolled": false
   },
   "outputs": [
    {
     "name": "stderr",
     "output_type": "stream",
     "text": [
      "C:\\Users\\austi\\anaconda3\\lib\\site-packages\\sklearn\\utils\\deprecation.py:87: FutureWarning: Function plot_confusion_matrix is deprecated; Function `plot_confusion_matrix` is deprecated in 1.0 and will be removed in 1.2. Use one of the class methods: ConfusionMatrixDisplay.from_predictions or ConfusionMatrixDisplay.from_estimator.\n",
      "  warnings.warn(msg, category=FutureWarning)\n"
     ]
    },
    {
     "data": {
      "image/png": "[encoded data removed]",
      "text/plain": [
       "<Figure size 432x288 with 2 Axes>"
      ]
     },
     "metadata": {
      "needs_background": "light"
     },
     "output_type": "display_data"
    }
   ],
   "source": [
    "plot_confusion_matrix(MLPC_cv, X_test, y_test, labels=['Not good', 'Good'])  \n",
    "plt.title(\"Confusion Matrix for test dataset for MLPClassifier\")\n",
    "plt.show()"
   ]
  },
  {
   "cell_type": "code",
   "execution_count": 103,
   "metadata": {
    "scrolled": true
   },
   "outputs": [
    {
     "name": "stdout",
     "output_type": "stream",
     "text": [
      "              precision    recall  f1-score   support\n",
      "\n",
      "        Good       0.62      0.69      0.66       271\n",
      "    Not good       0.92      0.89      0.90      1022\n",
      "\n",
      "    accuracy                           0.85      1293\n",
      "   macro avg       0.77      0.79      0.78      1293\n",
      "weighted avg       0.86      0.85      0.85      1293\n",
      "\n"
     ]
    }
   ],
   "source": [
    "print(classification_report(y_test, y_pred_MLPC))"
   ]
  },
  {
   "cell_type": "markdown",
   "metadata": {},
   "source": [
    "**Keras Neural Network**"
   ]
  },
  {
   "cell_type": "code",
   "execution_count": 87,
   "metadata": {},
   "outputs": [],
   "source": [
    "from keras.models import Sequential\n",
    "from keras.layers import Dense, Activation\n",
    "from sklearn.metrics import ConfusionMatrixDisplay"
   ]
  },
  {
   "cell_type": "code",
   "execution_count": 134,
   "metadata": {},
   "outputs": [],
   "source": [
    "# Use best layer sizes from MLPClassifier\n",
    "model = Sequential()\n",
    "model.add(Dense(128, activation='relu', input_shape=(12,)))\n",
    "model.add(Dense(64, activation='relu'))\n",
    "model.add(Dense(1, activation='sigmoid'))\n",
    "model.compile(optimizer='adam', loss='binary_crossentropy', metrics=['accuracy'])"
   ]
  },
  {
   "cell_type": "code",
   "execution_count": 121,
   "metadata": {},
   "outputs": [],
   "source": [
    "y_dev_enc = y_dev.replace('Not good', 0)\n",
    "y_dev_enc = y_dev_enc.replace('Good', 1)\n",
    "y_val_enc = y_val.replace('Not good', 0)\n",
    "y_val_enc = y_val_enc.replace('Good', 1)\n",
    "y_test_enc = y_test.replace('Not good', 0)\n",
    "y_test_enc = y_test_enc.replace('Good', 1)"
   ]
  },
  {
   "cell_type": "code",
   "execution_count": 135,
   "metadata": {
    "scrolled": true
   },
   "outputs": [
    {
     "name": "stdout",
     "output_type": "stream",
     "text": [
      "Epoch 1/15\n",
      "33/33 [==============================] - 0s 3ms/step - loss: 0.7452 - accuracy: 0.7442 - val_loss: 0.5034 - val_accuracy: 0.8162\n",
      "Epoch 2/15\n",
      "33/33 [==============================] - 0s 1ms/step - loss: 0.5056 - accuracy: 0.8029 - val_loss: 0.4520 - val_accuracy: 0.8162\n",
      "Epoch 3/15\n",
      "33/33 [==============================] - 0s 1ms/step - loss: 0.4808 - accuracy: 0.8032 - val_loss: 0.4815 - val_accuracy: 0.8162\n",
      "Epoch 4/15\n",
      "33/33 [==============================] - 0s 1ms/step - loss: 0.4751 - accuracy: 0.8037 - val_loss: 0.4393 - val_accuracy: 0.8162\n",
      "Epoch 5/15\n",
      "33/33 [==============================] - 0s 1ms/step - loss: 0.4700 - accuracy: 0.8046 - val_loss: 0.5037 - val_accuracy: 0.7950\n",
      "Epoch 6/15\n",
      "33/33 [==============================] - 0s 1ms/step - loss: 0.4869 - accuracy: 0.8015 - val_loss: 0.4464 - val_accuracy: 0.8172\n",
      "Epoch 7/15\n",
      "33/33 [==============================] - 0s 806us/step - loss: 0.4526 - accuracy: 0.8039 - val_loss: 0.4457 - val_accuracy: 0.8162\n",
      "Epoch 8/15\n",
      "33/33 [==============================] - 0s 2ms/step - loss: 0.4646 - accuracy: 0.8063 - val_loss: 0.4555 - val_accuracy: 0.8201\n",
      "Epoch 9/15\n",
      "33/33 [==============================] - 0s 868us/step - loss: 0.4513 - accuracy: 0.8066 - val_loss: 0.4172 - val_accuracy: 0.8162\n",
      "Epoch 10/15\n",
      "33/33 [==============================] - 0s 1ms/step - loss: 0.4503 - accuracy: 0.8051 - val_loss: 0.4450 - val_accuracy: 0.8230\n",
      "Epoch 11/15\n",
      "33/33 [==============================] - 0s 1ms/step - loss: 0.4566 - accuracy: 0.7988 - val_loss: 0.4809 - val_accuracy: 0.8017\n",
      "Epoch 12/15\n",
      "33/33 [==============================] - 0s 1ms/step - loss: 0.4587 - accuracy: 0.8025 - val_loss: 0.4280 - val_accuracy: 0.8162\n",
      "Epoch 13/15\n",
      "33/33 [==============================] - 0s 1ms/step - loss: 0.4519 - accuracy: 0.8102 - val_loss: 0.4122 - val_accuracy: 0.8153\n",
      "Epoch 14/15\n",
      "33/33 [==============================] - 0s 1ms/step - loss: 0.4430 - accuracy: 0.8107 - val_loss: 0.3998 - val_accuracy: 0.8172\n",
      "Epoch 15/15\n",
      "33/33 [==============================] - 0s 1ms/step - loss: 0.4319 - accuracy: 0.8095 - val_loss: 0.4162 - val_accuracy: 0.8230\n"
     ]
    }
   ],
   "source": [
    "eval_hist = model.fit(X_dev, y_dev_enc, batch_size=128, epochs=15, verbose=1, validation_data=(X_val, y_val_enc))"
   ]
  },
  {
   "cell_type": "code",
   "execution_count": 137,
   "metadata": {},
   "outputs": [
    {
     "data": {
      "text/plain": [
       "<matplotlib.legend.Legend at 0x24c92afc400>"
      ]
     },
     "execution_count": 137,
     "metadata": {},
     "output_type": "execute_result"
    },
    {
     "data": {
      "image/png": "[encoded data removed]",
      "text/plain": [
       "<Figure size 864x288 with 2 Axes>"
      ]
     },
     "metadata": {
      "needs_background": "light"
     },
     "output_type": "display_data"
    }
   ],
   "source": [
    "metrics = eval_hist.history\n",
    "epoch = np.arange(1, 16)\n",
    "\n",
    "fig, axe = plt.subplots(1, 2, figsize=(12, 4))\n",
    "axe[0].plot(epoch, metrics['loss'], label='Train loss')\n",
    "axe[0].plot(epoch, metrics['val_loss'], label='Validation loss')\n",
    "axe[0].set_xlabel('Epoch')\n",
    "axe[0].set_ylabel('Loss')\n",
    "axe[0].set_xticks(range(0, 16, 2))\n",
    "axe[0].legend()\n",
    "\n",
    "axe[1].plot(epoch, metrics['accuracy'], 'r', label='Train accuracy')\n",
    "axe[1].plot(epoch, metrics['val_accuracy'], 'b', label='Validation accuracy')\n",
    "axe[1].set_xlabel('Epoch')\n",
    "axe[1].set_ylabel('Accuracy')\n",
    "axe[1].set_xticks(range(0, 16, 2))\n",
    "axe[1].legend()"
   ]
  },
  {
   "cell_type": "markdown",
   "metadata": {},
   "source": [
    "Evaluate model performance on test data."
   ]
  },
  {
   "cell_type": "code",
   "execution_count": 139,
   "metadata": {},
   "outputs": [
    {
     "name": "stdout",
     "output_type": "stream",
     "text": [
      "Test loss: 0.439\n",
      "Test accuracy: 0.807\n"
     ]
    }
   ],
   "source": [
    "test_scores = model.evaluate(X_test, y_test_enc, verbose=0)\n",
    "print('Test loss: {:.3f}'.format(test_scores[0]))\n",
    "print('Test accuracy: {:.3f}'.format(test_scores[1]))"
   ]
  },
  {
   "cell_type": "code",
   "execution_count": 141,
   "metadata": {},
   "outputs": [
    {
     "data": {
      "text/plain": [
       "Text(0.5, 1.0, 'Confusion Matrix for test dataset for Keras NN')"
      ]
     },
     "execution_count": 141,
     "metadata": {},
     "output_type": "execute_result"
    },
    {
     "data": {
      "image/png": "[encoded data removed]",
      "text/plain": [
       "<Figure size 432x288 with 2 Axes>"
      ]
     },
     "metadata": {
      "needs_background": "light"
     },
     "output_type": "display_data"
    }
   ],
   "source": [
    "y_pred_NN = model.predict(X_test)\n",
    "y_pred_NN[y_pred_NN < 0.5] = 0\n",
    "y_pred_NN[y_pred_NN >= 0.5] = 1\n",
    "cm = confusion_matrix(y_test_enc, y_pred_NN)\n",
    "disp = ConfusionMatrixDisplay(cm, display_labels=['Not good', 'Good'])\n",
    "disp.plot()\n",
    "plt.title(\"Confusion Matrix for test dataset for Keras NN\")"
   ]
  },
  {
   "cell_type": "code",
   "execution_count": 143,
   "metadata": {},
   "outputs": [
    {
     "name": "stdout",
     "output_type": "stream",
     "text": [
      "              precision    recall  f1-score   support\n",
      "\n",
      "           0       0.84      0.93      0.88      1022\n",
      "           1       0.57      0.35      0.43       271\n",
      "\n",
      "    accuracy                           0.81      1293\n",
      "   macro avg       0.70      0.64      0.66      1293\n",
      "weighted avg       0.78      0.81      0.79      1293\n",
      "\n"
     ]
    }
   ],
   "source": [
    "print(classification_report(y_test_enc, y_pred_NN))"
   ]
  },
  {
   "cell_type": "code",
   "execution_count": null,
   "metadata": {},
   "outputs": [],
   "source": []
  }
 ],
 "metadata": {
  "colab": {
   "collapsed_sections": [],
   "name": "Copy of AML Project Code.ipynb",
   "provenance": [
    {
     "file_id": "1xu58uyYTpdUmIacxoDrlm6c8jz6n9fig",
     "timestamp": 1650672568653
    },
    {
     "file_id": "1raRVl2h9nGoDN32min873sKMhUOHZ08e",
     "timestamp": 1647827244905
    }
   ]
  },
  "kernelspec": {
   "display_name": "Python 3 (ipykernel)",
   "language": "python",
   "name": "python3"
  },
  "language_info": {
   "codemirror_mode": {
    "name": "ipython",
    "version": 3
   },
   "file_extension": ".py",
   "mimetype": "text/x-python",
   "name": "python",
   "nbconvert_exporter": "python",
   "pygments_lexer": "ipython3",
   "version": "3.9.7"
  }
 },
 "nbformat": 4,
 "nbformat_minor": 1
}
