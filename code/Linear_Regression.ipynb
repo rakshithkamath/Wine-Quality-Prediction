{
  "cells": [
    {
      "cell_type": "markdown",
      "source": [
        "**Prediction of Wine Quality based on its Manufacturing Ingredients**"
      ],
      "metadata": {
        "id": "vJFPcg6YG-o4"
      }
    },
    {
      "cell_type": "markdown",
      "source": [
        "## 1. Data Importing and Initial Exploration"
      ],
      "metadata": {
        "id": "mFooBPjEHN1X"
      }
    },
    {
      "cell_type": "code",
      "source": [
        "from google.colab import drive\n",
        "import pandas as pd\n",
        "import matplotlib.pyplot as plt\n",
        "import seaborn as sns\n",
        "from sklearn.preprocessing import MinMaxScaler,StandardScaler\n",
        "from sklearn.model_selection import train_test_split\n",
        "from sklearn.ensemble import RandomForestRegressor\n",
        "from sklearn.metrics import mean_squared_error\n",
        "from sklearn import model_selection\n",
        "from pprint import pprint\n",
        "from sklearn.compose import make_column_transformer\n",
        "from sklearn.pipeline import Pipeline\n",
        "from sklearn.linear_model import LogisticRegression\n",
        "from sklearn.model_selection import GridSearchCV\n",
        "import numpy as np\n",
        "from sklearn.metrics import plot_confusion_matrix\n",
        "from sklearn.svm import SVC\n",
        "from sklearn.metrics import confusion_matrix, roc_curve, precision_recall_curve,auc,average_precision_score,classification_report,roc_auc_score,log_loss,roc_curve, precision_recall_curve,auc,average_precision_score\n",
        "import imblearn\n",
        "from imblearn.over_sampling import SMOTE\n",
        "from imblearn.pipeline import make_pipeline\n",
        "from sklearn.linear_model import LinearRegression\n"
      ],
      "metadata": {
        "id": "sI3GujVh7j2G"
      },
      "execution_count": 1,
      "outputs": []
    },
    {
      "cell_type": "code",
      "source": [
        "import warnings\n",
        "\n",
        "def fxn():\n",
        "    warnings.warn(\"deprecated\", DeprecationWarning)\n",
        "\n",
        "with warnings.catch_warnings():\n",
        "    warnings.simplefilter(\"ignore\")\n",
        "    fxn()\n",
        "\n",
        "from warnings import simplefilter\n",
        "from sklearn.exceptions import ConvergenceWarning\n",
        "simplefilter(\"ignore\", category=ConvergenceWarning)"
      ],
      "metadata": {
        "id": "6JNhSbh5r2X_"
      },
      "execution_count": 2,
      "outputs": []
    },
    {
      "cell_type": "code",
      "execution_count": 3,
      "metadata": {
        "colab": {
          "base_uri": "https://localhost:8080/",
          "height": 253
        },
        "id": "UNdGexLvcjtA",
        "outputId": "18bffc0c-566b-42cc-fb0c-87f67613ae72"
      },
      "outputs": [
        {
          "output_type": "execute_result",
          "data": {
            "text/plain": [
              "   Unnamed: 0  type  fixed acidity  volatile acidity  citric acid  \\\n",
              "0           0     1            7.0              0.27         0.36   \n",
              "1           1     1            6.3              0.30         0.34   \n",
              "2           2     1            8.1              0.28         0.40   \n",
              "3           3     1            7.2              0.23         0.32   \n",
              "4           4     1            7.2              0.23         0.32   \n",
              "\n",
              "   residual sugar  chlorides  free sulfur dioxide  total sulfur dioxide  \\\n",
              "0            20.7      0.045                 45.0                 170.0   \n",
              "1             1.6      0.049                 14.0                 132.0   \n",
              "2             6.9      0.050                 30.0                  97.0   \n",
              "3             8.5      0.058                 47.0                 186.0   \n",
              "4             8.5      0.058                 47.0                 186.0   \n",
              "\n",
              "   density    pH  sulphates  alcohol  quality  good  \n",
              "0   1.0010  3.00       0.45      8.8        6     0  \n",
              "1   0.9940  3.30       0.49      9.5        6     0  \n",
              "2   0.9951  3.26       0.44     10.1        6     0  \n",
              "3   0.9956  3.19       0.40      9.9        6     0  \n",
              "4   0.9956  3.19       0.40      9.9        6     0  "
            ],
            "text/html": [
              "\n",
              "  <div id=\"df-75301ca9-afe5-4eab-9a5e-053af3b2f780\">\n",
              "    <div class=\"colab-df-container\">\n",
              "      <div>\n",
              "<style scoped>\n",
              "    .dataframe tbody tr th:only-of-type {\n",
              "        vertical-align: middle;\n",
              "    }\n",
              "\n",
              "    .dataframe tbody tr th {\n",
              "        vertical-align: top;\n",
              "    }\n",
              "\n",
              "    .dataframe thead th {\n",
              "        text-align: right;\n",
              "    }\n",
              "</style>\n",
              "<table border=\"1\" class=\"dataframe\">\n",
              "  <thead>\n",
              "    <tr style=\"text-align: right;\">\n",
              "      <th></th>\n",
              "      <th>Unnamed: 0</th>\n",
              "      <th>type</th>\n",
              "      <th>fixed acidity</th>\n",
              "      <th>volatile acidity</th>\n",
              "      <th>citric acid</th>\n",
              "      <th>residual sugar</th>\n",
              "      <th>chlorides</th>\n",
              "      <th>free sulfur dioxide</th>\n",
              "      <th>total sulfur dioxide</th>\n",
              "      <th>density</th>\n",
              "      <th>pH</th>\n",
              "      <th>sulphates</th>\n",
              "      <th>alcohol</th>\n",
              "      <th>quality</th>\n",
              "      <th>good</th>\n",
              "    </tr>\n",
              "  </thead>\n",
              "  <tbody>\n",
              "    <tr>\n",
              "      <th>0</th>\n",
              "      <td>0</td>\n",
              "      <td>1</td>\n",
              "      <td>7.0</td>\n",
              "      <td>0.27</td>\n",
              "      <td>0.36</td>\n",
              "      <td>20.7</td>\n",
              "      <td>0.045</td>\n",
              "      <td>45.0</td>\n",
              "      <td>170.0</td>\n",
              "      <td>1.0010</td>\n",
              "      <td>3.00</td>\n",
              "      <td>0.45</td>\n",
              "      <td>8.8</td>\n",
              "      <td>6</td>\n",
              "      <td>0</td>\n",
              "    </tr>\n",
              "    <tr>\n",
              "      <th>1</th>\n",
              "      <td>1</td>\n",
              "      <td>1</td>\n",
              "      <td>6.3</td>\n",
              "      <td>0.30</td>\n",
              "      <td>0.34</td>\n",
              "      <td>1.6</td>\n",
              "      <td>0.049</td>\n",
              "      <td>14.0</td>\n",
              "      <td>132.0</td>\n",
              "      <td>0.9940</td>\n",
              "      <td>3.30</td>\n",
              "      <td>0.49</td>\n",
              "      <td>9.5</td>\n",
              "      <td>6</td>\n",
              "      <td>0</td>\n",
              "    </tr>\n",
              "    <tr>\n",
              "      <th>2</th>\n",
              "      <td>2</td>\n",
              "      <td>1</td>\n",
              "      <td>8.1</td>\n",
              "      <td>0.28</td>\n",
              "      <td>0.40</td>\n",
              "      <td>6.9</td>\n",
              "      <td>0.050</td>\n",
              "      <td>30.0</td>\n",
              "      <td>97.0</td>\n",
              "      <td>0.9951</td>\n",
              "      <td>3.26</td>\n",
              "      <td>0.44</td>\n",
              "      <td>10.1</td>\n",
              "      <td>6</td>\n",
              "      <td>0</td>\n",
              "    </tr>\n",
              "    <tr>\n",
              "      <th>3</th>\n",
              "      <td>3</td>\n",
              "      <td>1</td>\n",
              "      <td>7.2</td>\n",
              "      <td>0.23</td>\n",
              "      <td>0.32</td>\n",
              "      <td>8.5</td>\n",
              "      <td>0.058</td>\n",
              "      <td>47.0</td>\n",
              "      <td>186.0</td>\n",
              "      <td>0.9956</td>\n",
              "      <td>3.19</td>\n",
              "      <td>0.40</td>\n",
              "      <td>9.9</td>\n",
              "      <td>6</td>\n",
              "      <td>0</td>\n",
              "    </tr>\n",
              "    <tr>\n",
              "      <th>4</th>\n",
              "      <td>4</td>\n",
              "      <td>1</td>\n",
              "      <td>7.2</td>\n",
              "      <td>0.23</td>\n",
              "      <td>0.32</td>\n",
              "      <td>8.5</td>\n",
              "      <td>0.058</td>\n",
              "      <td>47.0</td>\n",
              "      <td>186.0</td>\n",
              "      <td>0.9956</td>\n",
              "      <td>3.19</td>\n",
              "      <td>0.40</td>\n",
              "      <td>9.9</td>\n",
              "      <td>6</td>\n",
              "      <td>0</td>\n",
              "    </tr>\n",
              "  </tbody>\n",
              "</table>\n",
              "</div>\n",
              "      <button class=\"colab-df-convert\" onclick=\"convertToInteractive('df-75301ca9-afe5-4eab-9a5e-053af3b2f780')\"\n",
              "              title=\"Convert this dataframe to an interactive table.\"\n",
              "              style=\"display:none;\">\n",
              "        \n",
              "  <svg xmlns=\"http://www.w3.org/2000/svg\" height=\"24px\"viewBox=\"0 0 24 24\"\n",
              "       width=\"24px\">\n",
              "    <path d=\"M0 0h24v24H0V0z\" fill=\"none\"/>\n",
              "    <path d=\"M18.56 5.44l.94 2.06.94-2.06 2.06-.94-2.06-.94-.94-2.06-.94 2.06-2.06.94zm-11 1L8.5 8.5l.94-2.06 2.06-.94-2.06-.94L8.5 2.5l-.94 2.06-2.06.94zm10 10l.94 2.06.94-2.06 2.06-.94-2.06-.94-.94-2.06-.94 2.06-2.06.94z\"/><path d=\"M17.41 7.96l-1.37-1.37c-.4-.4-.92-.59-1.43-.59-.52 0-1.04.2-1.43.59L10.3 9.45l-7.72 7.72c-.78.78-.78 2.05 0 2.83L4 21.41c.39.39.9.59 1.41.59.51 0 1.02-.2 1.41-.59l7.78-7.78 2.81-2.81c.8-.78.8-2.07 0-2.86zM5.41 20L4 18.59l7.72-7.72 1.47 1.35L5.41 20z\"/>\n",
              "  </svg>\n",
              "      </button>\n",
              "      \n",
              "  <style>\n",
              "    .colab-df-container {\n",
              "      display:flex;\n",
              "      flex-wrap:wrap;\n",
              "      gap: 12px;\n",
              "    }\n",
              "\n",
              "    .colab-df-convert {\n",
              "      background-color: #E8F0FE;\n",
              "      border: none;\n",
              "      border-radius: 50%;\n",
              "      cursor: pointer;\n",
              "      display: none;\n",
              "      fill: #1967D2;\n",
              "      height: 32px;\n",
              "      padding: 0 0 0 0;\n",
              "      width: 32px;\n",
              "    }\n",
              "\n",
              "    .colab-df-convert:hover {\n",
              "      background-color: #E2EBFA;\n",
              "      box-shadow: 0px 1px 2px rgba(60, 64, 67, 0.3), 0px 1px 3px 1px rgba(60, 64, 67, 0.15);\n",
              "      fill: #174EA6;\n",
              "    }\n",
              "\n",
              "    [theme=dark] .colab-df-convert {\n",
              "      background-color: #3B4455;\n",
              "      fill: #D2E3FC;\n",
              "    }\n",
              "\n",
              "    [theme=dark] .colab-df-convert:hover {\n",
              "      background-color: #434B5C;\n",
              "      box-shadow: 0px 1px 3px 1px rgba(0, 0, 0, 0.15);\n",
              "      filter: drop-shadow(0px 1px 2px rgba(0, 0, 0, 0.3));\n",
              "      fill: #FFFFFF;\n",
              "    }\n",
              "  </style>\n",
              "\n",
              "      <script>\n",
              "        const buttonEl =\n",
              "          document.querySelector('#df-75301ca9-afe5-4eab-9a5e-053af3b2f780 button.colab-df-convert');\n",
              "        buttonEl.style.display =\n",
              "          google.colab.kernel.accessAllowed ? 'block' : 'none';\n",
              "\n",
              "        async function convertToInteractive(key) {\n",
              "          const element = document.querySelector('#df-75301ca9-afe5-4eab-9a5e-053af3b2f780');\n",
              "          const dataTable =\n",
              "            await google.colab.kernel.invokeFunction('convertToInteractive',\n",
              "                                                     [key], {});\n",
              "          if (!dataTable) return;\n",
              "\n",
              "          const docLinkHtml = 'Like what you see? Visit the ' +\n",
              "            '<a target=\"_blank\" href=https://colab.research.google.com/notebooks/data_table.ipynb>data table notebook</a>'\n",
              "            + ' to learn more about interactive tables.';\n",
              "          element.innerHTML = '';\n",
              "          dataTable['output_type'] = 'display_data';\n",
              "          await google.colab.output.renderOutput(dataTable, element);\n",
              "          const docLink = document.createElement('div');\n",
              "          docLink.innerHTML = docLinkHtml;\n",
              "          element.appendChild(docLink);\n",
              "        }\n",
              "      </script>\n",
              "    </div>\n",
              "  </div>\n",
              "  "
            ]
          },
          "metadata": {},
          "execution_count": 3
        }
      ],
      "source": [
        "df =  pd.read_csv('https://raw.githubusercontent.com/rjrahul24/AppliedML-Project/main/data/wine_quality_pre.csv',sep = \",\")\n",
        "df.head()"
      ]
    },
    {
      "cell_type": "markdown",
      "metadata": {
        "id": "hU6GI9bqnvkz"
      },
      "source": [
        "**Study of Correlations between Feature and Target Variable**\n",
        "\n",
        "From the pair plots and the calculation of correlation, we see the following relations between the feature and target variables.\n",
        "\n",
        "1.   The feature variables affecting the outcome of wine quality the most are volatile acidity, chlorides, density and alcohol.\n",
        "2.   Alcohol shows a strong positive correlation while the other variables represent strong negative correlations.\n",
        "3. Fixed Acidity, Residual Sugar, and Total Sulfur Dioxide have weak negative correlation with wine quality. \n",
        "4. Citric Acid, Free Sulfur Dioxide, pH and Sulphates have significantly weak positive correlation with the quality of wine. \n",
        "\n",
        "\n"
      ]
    },
    {
      "cell_type": "code",
      "source": [
        "#computing summary statistics for each column of the dataframe\n",
        "df.describe()"
      ],
      "metadata": {
        "colab": {
          "base_uri": "https://localhost:8080/",
          "height": 383
        },
        "id": "nReH0n0_9lRE",
        "outputId": "e112b733-723e-474f-d4d3-2485b513c6b9"
      },
      "execution_count": 4,
      "outputs": [
        {
          "output_type": "execute_result",
          "data": {
            "text/plain": [
              "        Unnamed: 0         type  fixed acidity  volatile acidity  citric acid  \\\n",
              "count  6463.000000  6463.000000    6463.000000       6463.000000  6463.000000   \n",
              "mean   3255.125793     0.753520       7.217755          0.339589     0.318758   \n",
              "std    1869.906597     0.430995       1.297913          0.164639     0.145252   \n",
              "min       0.000000     0.000000       3.800000          0.080000     0.000000   \n",
              "25%    1639.500000     1.000000       6.400000          0.230000     0.250000   \n",
              "50%    3257.000000     1.000000       7.000000          0.290000     0.310000   \n",
              "75%    4872.500000     1.000000       7.700000          0.400000     0.390000   \n",
              "max    6496.000000     1.000000      15.900000          1.580000     1.660000   \n",
              "\n",
              "       residual sugar    chlorides  free sulfur dioxide  total sulfur dioxide  \\\n",
              "count     6463.000000  6463.000000          6463.000000           6463.000000   \n",
              "mean         5.443958     0.056056            30.516865            115.694492   \n",
              "std          4.756852     0.035076            17.758815             56.526736   \n",
              "min          0.600000     0.009000             1.000000              6.000000   \n",
              "25%          1.800000     0.038000            17.000000             77.000000   \n",
              "50%          3.000000     0.047000            29.000000            118.000000   \n",
              "75%          8.100000     0.065000            41.000000            156.000000   \n",
              "max         65.800000     0.611000           289.000000            440.000000   \n",
              "\n",
              "           density           pH    sulphates      alcohol      quality  \\\n",
              "count  6463.000000  6463.000000  6463.000000  6463.000000  6463.000000   \n",
              "mean      0.994698     3.218332     0.531150    10.492825     5.818505   \n",
              "std       0.003001     0.160650     0.148913     1.193128     0.873286   \n",
              "min       0.987110     2.720000     0.220000     8.000000     3.000000   \n",
              "25%       0.992330     3.110000     0.430000     9.500000     5.000000   \n",
              "50%       0.994890     3.210000     0.510000    10.300000     6.000000   \n",
              "75%       0.997000     3.320000     0.600000    11.300000     6.000000   \n",
              "max       1.038980     4.010000     2.000000    14.900000     9.000000   \n",
              "\n",
              "              good  \n",
              "count  6463.000000  \n",
              "mean      0.196658  \n",
              "std       0.397502  \n",
              "min       0.000000  \n",
              "25%       0.000000  \n",
              "50%       0.000000  \n",
              "75%       0.000000  \n",
              "max       1.000000  "
            ],
            "text/html": [
              "\n",
              "  <div id=\"df-fabf8bd3-a0b6-4503-bc0d-6396f077d04d\">\n",
              "    <div class=\"colab-df-container\">\n",
              "      <div>\n",
              "<style scoped>\n",
              "    .dataframe tbody tr th:only-of-type {\n",
              "        vertical-align: middle;\n",
              "    }\n",
              "\n",
              "    .dataframe tbody tr th {\n",
              "        vertical-align: top;\n",
              "    }\n",
              "\n",
              "    .dataframe thead th {\n",
              "        text-align: right;\n",
              "    }\n",
              "</style>\n",
              "<table border=\"1\" class=\"dataframe\">\n",
              "  <thead>\n",
              "    <tr style=\"text-align: right;\">\n",
              "      <th></th>\n",
              "      <th>Unnamed: 0</th>\n",
              "      <th>type</th>\n",
              "      <th>fixed acidity</th>\n",
              "      <th>volatile acidity</th>\n",
              "      <th>citric acid</th>\n",
              "      <th>residual sugar</th>\n",
              "      <th>chlorides</th>\n",
              "      <th>free sulfur dioxide</th>\n",
              "      <th>total sulfur dioxide</th>\n",
              "      <th>density</th>\n",
              "      <th>pH</th>\n",
              "      <th>sulphates</th>\n",
              "      <th>alcohol</th>\n",
              "      <th>quality</th>\n",
              "      <th>good</th>\n",
              "    </tr>\n",
              "  </thead>\n",
              "  <tbody>\n",
              "    <tr>\n",
              "      <th>count</th>\n",
              "      <td>6463.000000</td>\n",
              "      <td>6463.000000</td>\n",
              "      <td>6463.000000</td>\n",
              "      <td>6463.000000</td>\n",
              "      <td>6463.000000</td>\n",
              "      <td>6463.000000</td>\n",
              "      <td>6463.000000</td>\n",
              "      <td>6463.000000</td>\n",
              "      <td>6463.000000</td>\n",
              "      <td>6463.000000</td>\n",
              "      <td>6463.000000</td>\n",
              "      <td>6463.000000</td>\n",
              "      <td>6463.000000</td>\n",
              "      <td>6463.000000</td>\n",
              "      <td>6463.000000</td>\n",
              "    </tr>\n",
              "    <tr>\n",
              "      <th>mean</th>\n",
              "      <td>3255.125793</td>\n",
              "      <td>0.753520</td>\n",
              "      <td>7.217755</td>\n",
              "      <td>0.339589</td>\n",
              "      <td>0.318758</td>\n",
              "      <td>5.443958</td>\n",
              "      <td>0.056056</td>\n",
              "      <td>30.516865</td>\n",
              "      <td>115.694492</td>\n",
              "      <td>0.994698</td>\n",
              "      <td>3.218332</td>\n",
              "      <td>0.531150</td>\n",
              "      <td>10.492825</td>\n",
              "      <td>5.818505</td>\n",
              "      <td>0.196658</td>\n",
              "    </tr>\n",
              "    <tr>\n",
              "      <th>std</th>\n",
              "      <td>1869.906597</td>\n",
              "      <td>0.430995</td>\n",
              "      <td>1.297913</td>\n",
              "      <td>0.164639</td>\n",
              "      <td>0.145252</td>\n",
              "      <td>4.756852</td>\n",
              "      <td>0.035076</td>\n",
              "      <td>17.758815</td>\n",
              "      <td>56.526736</td>\n",
              "      <td>0.003001</td>\n",
              "      <td>0.160650</td>\n",
              "      <td>0.148913</td>\n",
              "      <td>1.193128</td>\n",
              "      <td>0.873286</td>\n",
              "      <td>0.397502</td>\n",
              "    </tr>\n",
              "    <tr>\n",
              "      <th>min</th>\n",
              "      <td>0.000000</td>\n",
              "      <td>0.000000</td>\n",
              "      <td>3.800000</td>\n",
              "      <td>0.080000</td>\n",
              "      <td>0.000000</td>\n",
              "      <td>0.600000</td>\n",
              "      <td>0.009000</td>\n",
              "      <td>1.000000</td>\n",
              "      <td>6.000000</td>\n",
              "      <td>0.987110</td>\n",
              "      <td>2.720000</td>\n",
              "      <td>0.220000</td>\n",
              "      <td>8.000000</td>\n",
              "      <td>3.000000</td>\n",
              "      <td>0.000000</td>\n",
              "    </tr>\n",
              "    <tr>\n",
              "      <th>25%</th>\n",
              "      <td>1639.500000</td>\n",
              "      <td>1.000000</td>\n",
              "      <td>6.400000</td>\n",
              "      <td>0.230000</td>\n",
              "      <td>0.250000</td>\n",
              "      <td>1.800000</td>\n",
              "      <td>0.038000</td>\n",
              "      <td>17.000000</td>\n",
              "      <td>77.000000</td>\n",
              "      <td>0.992330</td>\n",
              "      <td>3.110000</td>\n",
              "      <td>0.430000</td>\n",
              "      <td>9.500000</td>\n",
              "      <td>5.000000</td>\n",
              "      <td>0.000000</td>\n",
              "    </tr>\n",
              "    <tr>\n",
              "      <th>50%</th>\n",
              "      <td>3257.000000</td>\n",
              "      <td>1.000000</td>\n",
              "      <td>7.000000</td>\n",
              "      <td>0.290000</td>\n",
              "      <td>0.310000</td>\n",
              "      <td>3.000000</td>\n",
              "      <td>0.047000</td>\n",
              "      <td>29.000000</td>\n",
              "      <td>118.000000</td>\n",
              "      <td>0.994890</td>\n",
              "      <td>3.210000</td>\n",
              "      <td>0.510000</td>\n",
              "      <td>10.300000</td>\n",
              "      <td>6.000000</td>\n",
              "      <td>0.000000</td>\n",
              "    </tr>\n",
              "    <tr>\n",
              "      <th>75%</th>\n",
              "      <td>4872.500000</td>\n",
              "      <td>1.000000</td>\n",
              "      <td>7.700000</td>\n",
              "      <td>0.400000</td>\n",
              "      <td>0.390000</td>\n",
              "      <td>8.100000</td>\n",
              "      <td>0.065000</td>\n",
              "      <td>41.000000</td>\n",
              "      <td>156.000000</td>\n",
              "      <td>0.997000</td>\n",
              "      <td>3.320000</td>\n",
              "      <td>0.600000</td>\n",
              "      <td>11.300000</td>\n",
              "      <td>6.000000</td>\n",
              "      <td>0.000000</td>\n",
              "    </tr>\n",
              "    <tr>\n",
              "      <th>max</th>\n",
              "      <td>6496.000000</td>\n",
              "      <td>1.000000</td>\n",
              "      <td>15.900000</td>\n",
              "      <td>1.580000</td>\n",
              "      <td>1.660000</td>\n",
              "      <td>65.800000</td>\n",
              "      <td>0.611000</td>\n",
              "      <td>289.000000</td>\n",
              "      <td>440.000000</td>\n",
              "      <td>1.038980</td>\n",
              "      <td>4.010000</td>\n",
              "      <td>2.000000</td>\n",
              "      <td>14.900000</td>\n",
              "      <td>9.000000</td>\n",
              "      <td>1.000000</td>\n",
              "    </tr>\n",
              "  </tbody>\n",
              "</table>\n",
              "</div>\n",
              "      <button class=\"colab-df-convert\" onclick=\"convertToInteractive('df-fabf8bd3-a0b6-4503-bc0d-6396f077d04d')\"\n",
              "              title=\"Convert this dataframe to an interactive table.\"\n",
              "              style=\"display:none;\">\n",
              "        \n",
              "  <svg xmlns=\"http://www.w3.org/2000/svg\" height=\"24px\"viewBox=\"0 0 24 24\"\n",
              "       width=\"24px\">\n",
              "    <path d=\"M0 0h24v24H0V0z\" fill=\"none\"/>\n",
              "    <path d=\"M18.56 5.44l.94 2.06.94-2.06 2.06-.94-2.06-.94-.94-2.06-.94 2.06-2.06.94zm-11 1L8.5 8.5l.94-2.06 2.06-.94-2.06-.94L8.5 2.5l-.94 2.06-2.06.94zm10 10l.94 2.06.94-2.06 2.06-.94-2.06-.94-.94-2.06-.94 2.06-2.06.94z\"/><path d=\"M17.41 7.96l-1.37-1.37c-.4-.4-.92-.59-1.43-.59-.52 0-1.04.2-1.43.59L10.3 9.45l-7.72 7.72c-.78.78-.78 2.05 0 2.83L4 21.41c.39.39.9.59 1.41.59.51 0 1.02-.2 1.41-.59l7.78-7.78 2.81-2.81c.8-.78.8-2.07 0-2.86zM5.41 20L4 18.59l7.72-7.72 1.47 1.35L5.41 20z\"/>\n",
              "  </svg>\n",
              "      </button>\n",
              "      \n",
              "  <style>\n",
              "    .colab-df-container {\n",
              "      display:flex;\n",
              "      flex-wrap:wrap;\n",
              "      gap: 12px;\n",
              "    }\n",
              "\n",
              "    .colab-df-convert {\n",
              "      background-color: #E8F0FE;\n",
              "      border: none;\n",
              "      border-radius: 50%;\n",
              "      cursor: pointer;\n",
              "      display: none;\n",
              "      fill: #1967D2;\n",
              "      height: 32px;\n",
              "      padding: 0 0 0 0;\n",
              "      width: 32px;\n",
              "    }\n",
              "\n",
              "    .colab-df-convert:hover {\n",
              "      background-color: #E2EBFA;\n",
              "      box-shadow: 0px 1px 2px rgba(60, 64, 67, 0.3), 0px 1px 3px 1px rgba(60, 64, 67, 0.15);\n",
              "      fill: #174EA6;\n",
              "    }\n",
              "\n",
              "    [theme=dark] .colab-df-convert {\n",
              "      background-color: #3B4455;\n",
              "      fill: #D2E3FC;\n",
              "    }\n",
              "\n",
              "    [theme=dark] .colab-df-convert:hover {\n",
              "      background-color: #434B5C;\n",
              "      box-shadow: 0px 1px 3px 1px rgba(0, 0, 0, 0.15);\n",
              "      filter: drop-shadow(0px 1px 2px rgba(0, 0, 0, 0.3));\n",
              "      fill: #FFFFFF;\n",
              "    }\n",
              "  </style>\n",
              "\n",
              "      <script>\n",
              "        const buttonEl =\n",
              "          document.querySelector('#df-fabf8bd3-a0b6-4503-bc0d-6396f077d04d button.colab-df-convert');\n",
              "        buttonEl.style.display =\n",
              "          google.colab.kernel.accessAllowed ? 'block' : 'none';\n",
              "\n",
              "        async function convertToInteractive(key) {\n",
              "          const element = document.querySelector('#df-fabf8bd3-a0b6-4503-bc0d-6396f077d04d');\n",
              "          const dataTable =\n",
              "            await google.colab.kernel.invokeFunction('convertToInteractive',\n",
              "                                                     [key], {});\n",
              "          if (!dataTable) return;\n",
              "\n",
              "          const docLinkHtml = 'Like what you see? Visit the ' +\n",
              "            '<a target=\"_blank\" href=https://colab.research.google.com/notebooks/data_table.ipynb>data table notebook</a>'\n",
              "            + ' to learn more about interactive tables.';\n",
              "          element.innerHTML = '';\n",
              "          dataTable['output_type'] = 'display_data';\n",
              "          await google.colab.output.renderOutput(dataTable, element);\n",
              "          const docLink = document.createElement('div');\n",
              "          docLink.innerHTML = docLinkHtml;\n",
              "          element.appendChild(docLink);\n",
              "        }\n",
              "      </script>\n",
              "    </div>\n",
              "  </div>\n",
              "  "
            ]
          },
          "metadata": {},
          "execution_count": 4
        }
      ]
    },
    {
      "cell_type": "code",
      "source": [
        "plt.scatter(df['alcohol'],df['quality'])\n",
        "plt.xlabel('Alcohol')\n",
        "plt.ylabel('Quality')\n",
        "plt.title('Plotting alcohol against the quality')\n",
        "plt.grid(True)\n",
        "plt.show()\n",
        "#There is a weak positive relationship betweeen wine quality and alcohol content. Wines with high alcohol content are mostly high in quality"
      ],
      "metadata": {
        "colab": {
          "base_uri": "https://localhost:8080/",
          "height": 295
        },
        "id": "Rs_BckNu94tY",
        "outputId": "130adac9-eaaa-4822-8289-1f7df604ec1b"
      },
      "execution_count": 5,
      "outputs": [
        {
          "output_type": "display_data",
          "data": {
            "text/plain": [
              "<Figure size 432x288 with 1 Axes>"
            ],
            "image/png": "[encoded data removed]"
          },
          "metadata": {
            "needs_background": "light"
          }
        }
      ]
    },
    {
      "cell_type": "code",
      "source": [
        "plt.scatter(df['volatile acidity'],df['quality'])\n",
        "plt.xlabel('Volatile Acidity')\n",
        "plt.ylabel('Quality')\n",
        "plt.title('Volatile Acidity against Quality')\n",
        "plt.grid(True)\n",
        "plt.show()\n",
        "#There is a negative relationship between volatile acidity and quality"
      ],
      "metadata": {
        "colab": {
          "base_uri": "https://localhost:8080/",
          "height": 295
        },
        "id": "SoWLDFGd-HCg",
        "outputId": "aa68964f-570d-4f6e-8f36-d5b5b6d1247d"
      },
      "execution_count": 6,
      "outputs": [
        {
          "output_type": "display_data",
          "data": {
            "text/plain": [
              "<Figure size 432x288 with 1 Axes>"
            ],
            "image/png": "[encoded data removed]"
          },
          "metadata": {
            "needs_background": "light"
          }
        }
      ]
    },
    {
      "cell_type": "code",
      "source": [
        "df.corr()"
      ],
      "metadata": {
        "colab": {
          "base_uri": "https://localhost:8080/",
          "height": 682
        },
        "id": "tQUxHvTg-MDf",
        "outputId": "e4f219b1-c8f7-4e88-d8df-b75f135b8d92"
      },
      "execution_count": 7,
      "outputs": [
        {
          "output_type": "execute_result",
          "data": {
            "text/plain": [
              "                      Unnamed: 0      type  fixed acidity  volatile acidity  \\\n",
              "Unnamed: 0              1.000000 -0.746106       0.247893          0.489076   \n",
              "type                   -0.746106  1.000000      -0.488552         -0.653374   \n",
              "fixed acidity           0.247893 -0.488552       1.000000          0.221066   \n",
              "volatile acidity        0.489076 -0.653374       0.221066          1.000000   \n",
              "citric acid            -0.221944  0.185892       0.323744         -0.377512   \n",
              "residual sugar         -0.256960  0.349358      -0.113442         -0.196677   \n",
              "chlorides               0.356856 -0.512705       0.299104          0.377995   \n",
              "free sulfur dioxide    -0.356260  0.472653      -0.283485         -0.353402   \n",
              "total sulfur dioxide   -0.596102  0.700521      -0.330543         -0.414729   \n",
              "density                 0.172559 -0.391437       0.459713          0.272101   \n",
              "pH                      0.191148 -0.328474      -0.251121          0.260134   \n",
              "sulphates               0.359231 -0.486715       0.301263          0.225656   \n",
              "alcohol                 0.112185  0.035095      -0.096190         -0.039528   \n",
              "quality                -0.064193  0.119185      -0.076174         -0.266677   \n",
              "good                   -0.068638  0.086964      -0.049347         -0.151756   \n",
              "\n",
              "                      citric acid  residual sugar  chlorides  \\\n",
              "Unnamed: 0              -0.221944       -0.256960   0.356856   \n",
              "type                     0.185892        0.349358  -0.512705   \n",
              "fixed acidity            0.323744       -0.113442   0.299104   \n",
              "volatile acidity        -0.377512       -0.196677   0.377995   \n",
              "citric acid              1.000000        0.142324   0.039412   \n",
              "residual sugar           0.142324        1.000000  -0.128814   \n",
              "chlorides                0.039412       -0.128814   1.000000   \n",
              "free sulfur dioxide      0.132271        0.403449  -0.195428   \n",
              "total sulfur dioxide     0.194398        0.495684  -0.279602   \n",
              "density                  0.097068        0.551494   0.363108   \n",
              "pH                      -0.327860       -0.266481   0.044653   \n",
              "sulphates                0.059070       -0.185616   0.396240   \n",
              "alcohol                 -0.010056       -0.359132  -0.257664   \n",
              "quality                  0.084926       -0.034654  -0.200553   \n",
              "good                     0.053870       -0.062492  -0.161593   \n",
              "\n",
              "                      free sulfur dioxide  total sulfur dioxide   density  \\\n",
              "Unnamed: 0                      -0.356260             -0.596102  0.172559   \n",
              "type                             0.472653              0.700521 -0.391437   \n",
              "fixed acidity                   -0.283485             -0.330543  0.459713   \n",
              "volatile acidity                -0.353402             -0.414729  0.272101   \n",
              "citric acid                      0.132271              0.194398  0.097068   \n",
              "residual sugar                   0.403449              0.495684  0.551494   \n",
              "chlorides                       -0.195428             -0.279602  0.363108   \n",
              "free sulfur dioxide              1.000000              0.721476  0.025113   \n",
              "total sulfur dioxide             0.721476              1.000000  0.031419   \n",
              "density                          0.025113              0.031419  1.000000   \n",
              "pH                              -0.145164             -0.237204  0.012525   \n",
              "sulphates                       -0.188947             -0.275878  0.260019   \n",
              "alcohol                         -0.179477             -0.264385 -0.687432   \n",
              "quality                          0.054924             -0.041598 -0.304447   \n",
              "good                             0.014821             -0.051459 -0.274404   \n",
              "\n",
              "                            pH  sulphates   alcohol   quality      good  \n",
              "Unnamed: 0            0.191148   0.359231  0.112185 -0.064193 -0.068638  \n",
              "type                 -0.328474  -0.486715  0.035095  0.119185  0.086964  \n",
              "fixed acidity        -0.251121   0.301263 -0.096190 -0.076174 -0.049347  \n",
              "volatile acidity      0.260134   0.225656 -0.039528 -0.266677 -0.151756  \n",
              "citric acid          -0.327860   0.059070 -0.010056  0.084926  0.053870  \n",
              "residual sugar       -0.266481  -0.185616 -0.359132 -0.034654 -0.062492  \n",
              "chlorides             0.044653   0.396240 -0.257664 -0.200553 -0.161593  \n",
              "free sulfur dioxide  -0.145164  -0.188947 -0.179477  0.054924  0.014821  \n",
              "total sulfur dioxide -0.237204  -0.275878 -0.264385 -0.041598 -0.051459  \n",
              "density               0.012525   0.260019 -0.687432 -0.304447 -0.274404  \n",
              "pH                    1.000000   0.190864  0.120473  0.018403  0.027553  \n",
              "sulphates             0.190864   1.000000 -0.004116  0.039054  0.034767  \n",
              "alcohol               0.120473  -0.004116  1.000000  0.444637  0.390937  \n",
              "quality               0.018403   0.039054  0.444637  1.000000  0.759495  \n",
              "good                  0.027553   0.034767  0.390937  0.759495  1.000000  "
            ],
            "text/html": [
              "\n",
              "  <div id=\"df-b57c0171-f868-4240-83d0-ed63981087c3\">\n",
              "    <div class=\"colab-df-container\">\n",
              "      <div>\n",
              "<style scoped>\n",
              "    .dataframe tbody tr th:only-of-type {\n",
              "        vertical-align: middle;\n",
              "    }\n",
              "\n",
              "    .dataframe tbody tr th {\n",
              "        vertical-align: top;\n",
              "    }\n",
              "\n",
              "    .dataframe thead th {\n",
              "        text-align: right;\n",
              "    }\n",
              "</style>\n",
              "<table border=\"1\" class=\"dataframe\">\n",
              "  <thead>\n",
              "    <tr style=\"text-align: right;\">\n",
              "      <th></th>\n",
              "      <th>Unnamed: 0</th>\n",
              "      <th>type</th>\n",
              "      <th>fixed acidity</th>\n",
              "      <th>volatile acidity</th>\n",
              "      <th>citric acid</th>\n",
              "      <th>residual sugar</th>\n",
              "      <th>chlorides</th>\n",
              "      <th>free sulfur dioxide</th>\n",
              "      <th>total sulfur dioxide</th>\n",
              "      <th>density</th>\n",
              "      <th>pH</th>\n",
              "      <th>sulphates</th>\n",
              "      <th>alcohol</th>\n",
              "      <th>quality</th>\n",
              "      <th>good</th>\n",
              "    </tr>\n",
              "  </thead>\n",
              "  <tbody>\n",
              "    <tr>\n",
              "      <th>Unnamed: 0</th>\n",
              "      <td>1.000000</td>\n",
              "      <td>-0.746106</td>\n",
              "      <td>0.247893</td>\n",
              "      <td>0.489076</td>\n",
              "      <td>-0.221944</td>\n",
              "      <td>-0.256960</td>\n",
              "      <td>0.356856</td>\n",
              "      <td>-0.356260</td>\n",
              "      <td>-0.596102</td>\n",
              "      <td>0.172559</td>\n",
              "      <td>0.191148</td>\n",
              "      <td>0.359231</td>\n",
              "      <td>0.112185</td>\n",
              "      <td>-0.064193</td>\n",
              "      <td>-0.068638</td>\n",
              "    </tr>\n",
              "    <tr>\n",
              "      <th>type</th>\n",
              "      <td>-0.746106</td>\n",
              "      <td>1.000000</td>\n",
              "      <td>-0.488552</td>\n",
              "      <td>-0.653374</td>\n",
              "      <td>0.185892</td>\n",
              "      <td>0.349358</td>\n",
              "      <td>-0.512705</td>\n",
              "      <td>0.472653</td>\n",
              "      <td>0.700521</td>\n",
              "      <td>-0.391437</td>\n",
              "      <td>-0.328474</td>\n",
              "      <td>-0.486715</td>\n",
              "      <td>0.035095</td>\n",
              "      <td>0.119185</td>\n",
              "      <td>0.086964</td>\n",
              "    </tr>\n",
              "    <tr>\n",
              "      <th>fixed acidity</th>\n",
              "      <td>0.247893</td>\n",
              "      <td>-0.488552</td>\n",
              "      <td>1.000000</td>\n",
              "      <td>0.221066</td>\n",
              "      <td>0.323744</td>\n",
              "      <td>-0.113442</td>\n",
              "      <td>0.299104</td>\n",
              "      <td>-0.283485</td>\n",
              "      <td>-0.330543</td>\n",
              "      <td>0.459713</td>\n",
              "      <td>-0.251121</td>\n",
              "      <td>0.301263</td>\n",
              "      <td>-0.096190</td>\n",
              "      <td>-0.076174</td>\n",
              "      <td>-0.049347</td>\n",
              "    </tr>\n",
              "    <tr>\n",
              "      <th>volatile acidity</th>\n",
              "      <td>0.489076</td>\n",
              "      <td>-0.653374</td>\n",
              "      <td>0.221066</td>\n",
              "      <td>1.000000</td>\n",
              "      <td>-0.377512</td>\n",
              "      <td>-0.196677</td>\n",
              "      <td>0.377995</td>\n",
              "      <td>-0.353402</td>\n",
              "      <td>-0.414729</td>\n",
              "      <td>0.272101</td>\n",
              "      <td>0.260134</td>\n",
              "      <td>0.225656</td>\n",
              "      <td>-0.039528</td>\n",
              "      <td>-0.266677</td>\n",
              "      <td>-0.151756</td>\n",
              "    </tr>\n",
              "    <tr>\n",
              "      <th>citric acid</th>\n",
              "      <td>-0.221944</td>\n",
              "      <td>0.185892</td>\n",
              "      <td>0.323744</td>\n",
              "      <td>-0.377512</td>\n",
              "      <td>1.000000</td>\n",
              "      <td>0.142324</td>\n",
              "      <td>0.039412</td>\n",
              "      <td>0.132271</td>\n",
              "      <td>0.194398</td>\n",
              "      <td>0.097068</td>\n",
              "      <td>-0.327860</td>\n",
              "      <td>0.059070</td>\n",
              "      <td>-0.010056</td>\n",
              "      <td>0.084926</td>\n",
              "      <td>0.053870</td>\n",
              "    </tr>\n",
              "    <tr>\n",
              "      <th>residual sugar</th>\n",
              "      <td>-0.256960</td>\n",
              "      <td>0.349358</td>\n",
              "      <td>-0.113442</td>\n",
              "      <td>-0.196677</td>\n",
              "      <td>0.142324</td>\n",
              "      <td>1.000000</td>\n",
              "      <td>-0.128814</td>\n",
              "      <td>0.403449</td>\n",
              "      <td>0.495684</td>\n",
              "      <td>0.551494</td>\n",
              "      <td>-0.266481</td>\n",
              "      <td>-0.185616</td>\n",
              "      <td>-0.359132</td>\n",
              "      <td>-0.034654</td>\n",
              "      <td>-0.062492</td>\n",
              "    </tr>\n",
              "    <tr>\n",
              "      <th>chlorides</th>\n",
              "      <td>0.356856</td>\n",
              "      <td>-0.512705</td>\n",
              "      <td>0.299104</td>\n",
              "      <td>0.377995</td>\n",
              "      <td>0.039412</td>\n",
              "      <td>-0.128814</td>\n",
              "      <td>1.000000</td>\n",
              "      <td>-0.195428</td>\n",
              "      <td>-0.279602</td>\n",
              "      <td>0.363108</td>\n",
              "      <td>0.044653</td>\n",
              "      <td>0.396240</td>\n",
              "      <td>-0.257664</td>\n",
              "      <td>-0.200553</td>\n",
              "      <td>-0.161593</td>\n",
              "    </tr>\n",
              "    <tr>\n",
              "      <th>free sulfur dioxide</th>\n",
              "      <td>-0.356260</td>\n",
              "      <td>0.472653</td>\n",
              "      <td>-0.283485</td>\n",
              "      <td>-0.353402</td>\n",
              "      <td>0.132271</td>\n",
              "      <td>0.403449</td>\n",
              "      <td>-0.195428</td>\n",
              "      <td>1.000000</td>\n",
              "      <td>0.721476</td>\n",
              "      <td>0.025113</td>\n",
              "      <td>-0.145164</td>\n",
              "      <td>-0.188947</td>\n",
              "      <td>-0.179477</td>\n",
              "      <td>0.054924</td>\n",
              "      <td>0.014821</td>\n",
              "    </tr>\n",
              "    <tr>\n",
              "      <th>total sulfur dioxide</th>\n",
              "      <td>-0.596102</td>\n",
              "      <td>0.700521</td>\n",
              "      <td>-0.330543</td>\n",
              "      <td>-0.414729</td>\n",
              "      <td>0.194398</td>\n",
              "      <td>0.495684</td>\n",
              "      <td>-0.279602</td>\n",
              "      <td>0.721476</td>\n",
              "      <td>1.000000</td>\n",
              "      <td>0.031419</td>\n",
              "      <td>-0.237204</td>\n",
              "      <td>-0.275878</td>\n",
              "      <td>-0.264385</td>\n",
              "      <td>-0.041598</td>\n",
              "      <td>-0.051459</td>\n",
              "    </tr>\n",
              "    <tr>\n",
              "      <th>density</th>\n",
              "      <td>0.172559</td>\n",
              "      <td>-0.391437</td>\n",
              "      <td>0.459713</td>\n",
              "      <td>0.272101</td>\n",
              "      <td>0.097068</td>\n",
              "      <td>0.551494</td>\n",
              "      <td>0.363108</td>\n",
              "      <td>0.025113</td>\n",
              "      <td>0.031419</td>\n",
              "      <td>1.000000</td>\n",
              "      <td>0.012525</td>\n",
              "      <td>0.260019</td>\n",
              "      <td>-0.687432</td>\n",
              "      <td>-0.304447</td>\n",
              "      <td>-0.274404</td>\n",
              "    </tr>\n",
              "    <tr>\n",
              "      <th>pH</th>\n",
              "      <td>0.191148</td>\n",
              "      <td>-0.328474</td>\n",
              "      <td>-0.251121</td>\n",
              "      <td>0.260134</td>\n",
              "      <td>-0.327860</td>\n",
              "      <td>-0.266481</td>\n",
              "      <td>0.044653</td>\n",
              "      <td>-0.145164</td>\n",
              "      <td>-0.237204</td>\n",
              "      <td>0.012525</td>\n",
              "      <td>1.000000</td>\n",
              "      <td>0.190864</td>\n",
              "      <td>0.120473</td>\n",
              "      <td>0.018403</td>\n",
              "      <td>0.027553</td>\n",
              "    </tr>\n",
              "    <tr>\n",
              "      <th>sulphates</th>\n",
              "      <td>0.359231</td>\n",
              "      <td>-0.486715</td>\n",
              "      <td>0.301263</td>\n",
              "      <td>0.225656</td>\n",
              "      <td>0.059070</td>\n",
              "      <td>-0.185616</td>\n",
              "      <td>0.396240</td>\n",
              "      <td>-0.188947</td>\n",
              "      <td>-0.275878</td>\n",
              "      <td>0.260019</td>\n",
              "      <td>0.190864</td>\n",
              "      <td>1.000000</td>\n",
              "      <td>-0.004116</td>\n",
              "      <td>0.039054</td>\n",
              "      <td>0.034767</td>\n",
              "    </tr>\n",
              "    <tr>\n",
              "      <th>alcohol</th>\n",
              "      <td>0.112185</td>\n",
              "      <td>0.035095</td>\n",
              "      <td>-0.096190</td>\n",
              "      <td>-0.039528</td>\n",
              "      <td>-0.010056</td>\n",
              "      <td>-0.359132</td>\n",
              "      <td>-0.257664</td>\n",
              "      <td>-0.179477</td>\n",
              "      <td>-0.264385</td>\n",
              "      <td>-0.687432</td>\n",
              "      <td>0.120473</td>\n",
              "      <td>-0.004116</td>\n",
              "      <td>1.000000</td>\n",
              "      <td>0.444637</td>\n",
              "      <td>0.390937</td>\n",
              "    </tr>\n",
              "    <tr>\n",
              "      <th>quality</th>\n",
              "      <td>-0.064193</td>\n",
              "      <td>0.119185</td>\n",
              "      <td>-0.076174</td>\n",
              "      <td>-0.266677</td>\n",
              "      <td>0.084926</td>\n",
              "      <td>-0.034654</td>\n",
              "      <td>-0.200553</td>\n",
              "      <td>0.054924</td>\n",
              "      <td>-0.041598</td>\n",
              "      <td>-0.304447</td>\n",
              "      <td>0.018403</td>\n",
              "      <td>0.039054</td>\n",
              "      <td>0.444637</td>\n",
              "      <td>1.000000</td>\n",
              "      <td>0.759495</td>\n",
              "    </tr>\n",
              "    <tr>\n",
              "      <th>good</th>\n",
              "      <td>-0.068638</td>\n",
              "      <td>0.086964</td>\n",
              "      <td>-0.049347</td>\n",
              "      <td>-0.151756</td>\n",
              "      <td>0.053870</td>\n",
              "      <td>-0.062492</td>\n",
              "      <td>-0.161593</td>\n",
              "      <td>0.014821</td>\n",
              "      <td>-0.051459</td>\n",
              "      <td>-0.274404</td>\n",
              "      <td>0.027553</td>\n",
              "      <td>0.034767</td>\n",
              "      <td>0.390937</td>\n",
              "      <td>0.759495</td>\n",
              "      <td>1.000000</td>\n",
              "    </tr>\n",
              "  </tbody>\n",
              "</table>\n",
              "</div>\n",
              "      <button class=\"colab-df-convert\" onclick=\"convertToInteractive('df-b57c0171-f868-4240-83d0-ed63981087c3')\"\n",
              "              title=\"Convert this dataframe to an interactive table.\"\n",
              "              style=\"display:none;\">\n",
              "        \n",
              "  <svg xmlns=\"http://www.w3.org/2000/svg\" height=\"24px\"viewBox=\"0 0 24 24\"\n",
              "       width=\"24px\">\n",
              "    <path d=\"M0 0h24v24H0V0z\" fill=\"none\"/>\n",
              "    <path d=\"M18.56 5.44l.94 2.06.94-2.06 2.06-.94-2.06-.94-.94-2.06-.94 2.06-2.06.94zm-11 1L8.5 8.5l.94-2.06 2.06-.94-2.06-.94L8.5 2.5l-.94 2.06-2.06.94zm10 10l.94 2.06.94-2.06 2.06-.94-2.06-.94-.94-2.06-.94 2.06-2.06.94z\"/><path d=\"M17.41 7.96l-1.37-1.37c-.4-.4-.92-.59-1.43-.59-.52 0-1.04.2-1.43.59L10.3 9.45l-7.72 7.72c-.78.78-.78 2.05 0 2.83L4 21.41c.39.39.9.59 1.41.59.51 0 1.02-.2 1.41-.59l7.78-7.78 2.81-2.81c.8-.78.8-2.07 0-2.86zM5.41 20L4 18.59l7.72-7.72 1.47 1.35L5.41 20z\"/>\n",
              "  </svg>\n",
              "      </button>\n",
              "      \n",
              "  <style>\n",
              "    .colab-df-container {\n",
              "      display:flex;\n",
              "      flex-wrap:wrap;\n",
              "      gap: 12px;\n",
              "    }\n",
              "\n",
              "    .colab-df-convert {\n",
              "      background-color: #E8F0FE;\n",
              "      border: none;\n",
              "      border-radius: 50%;\n",
              "      cursor: pointer;\n",
              "      display: none;\n",
              "      fill: #1967D2;\n",
              "      height: 32px;\n",
              "      padding: 0 0 0 0;\n",
              "      width: 32px;\n",
              "    }\n",
              "\n",
              "    .colab-df-convert:hover {\n",
              "      background-color: #E2EBFA;\n",
              "      box-shadow: 0px 1px 2px rgba(60, 64, 67, 0.3), 0px 1px 3px 1px rgba(60, 64, 67, 0.15);\n",
              "      fill: #174EA6;\n",
              "    }\n",
              "\n",
              "    [theme=dark] .colab-df-convert {\n",
              "      background-color: #3B4455;\n",
              "      fill: #D2E3FC;\n",
              "    }\n",
              "\n",
              "    [theme=dark] .colab-df-convert:hover {\n",
              "      background-color: #434B5C;\n",
              "      box-shadow: 0px 1px 3px 1px rgba(0, 0, 0, 0.15);\n",
              "      filter: drop-shadow(0px 1px 2px rgba(0, 0, 0, 0.3));\n",
              "      fill: #FFFFFF;\n",
              "    }\n",
              "  </style>\n",
              "\n",
              "      <script>\n",
              "        const buttonEl =\n",
              "          document.querySelector('#df-b57c0171-f868-4240-83d0-ed63981087c3 button.colab-df-convert');\n",
              "        buttonEl.style.display =\n",
              "          google.colab.kernel.accessAllowed ? 'block' : 'none';\n",
              "\n",
              "        async function convertToInteractive(key) {\n",
              "          const element = document.querySelector('#df-b57c0171-f868-4240-83d0-ed63981087c3');\n",
              "          const dataTable =\n",
              "            await google.colab.kernel.invokeFunction('convertToInteractive',\n",
              "                                                     [key], {});\n",
              "          if (!dataTable) return;\n",
              "\n",
              "          const docLinkHtml = 'Like what you see? Visit the ' +\n",
              "            '<a target=\"_blank\" href=https://colab.research.google.com/notebooks/data_table.ipynb>data table notebook</a>'\n",
              "            + ' to learn more about interactive tables.';\n",
              "          element.innerHTML = '';\n",
              "          dataTable['output_type'] = 'display_data';\n",
              "          await google.colab.output.renderOutput(dataTable, element);\n",
              "          const docLink = document.createElement('div');\n",
              "          docLink.innerHTML = docLinkHtml;\n",
              "          element.appendChild(docLink);\n",
              "        }\n",
              "      </script>\n",
              "    </div>\n",
              "  </div>\n",
              "  "
            ]
          },
          "metadata": {},
          "execution_count": 7
        }
      ]
    },
    {
      "cell_type": "markdown",
      "source": [
        "## 2. Data Split and Preparation For Linear Regression"
      ],
      "metadata": {
        "id": "i3zpUI0PyqL0"
      }
    },
    {
      "cell_type": "code",
      "source": [
        "X = df[['type', 'fixed acidity','volatile acidity','citric acid','residual sugar','chlorides','free sulfur dioxide', 'total sulfur dioxide', 'density','pH','sulphates','alcohol']]\n",
        "y = df['quality']\n",
        "\n",
        "# Split into Train (80%) and Test (20%) Datasets\n",
        "X_train, X_test, y_train, y_test = train_test_split(X, y, train_size = 0.8, random_state = 42)\n",
        "\n",
        "# Split the training data into Development (80%) and Validation (20%) Datasets\n",
        "X_dev, X_val, y_dev, y_val = train_test_split(X_train, y_train, train_size = 0.8, random_state = 42)"
      ],
      "metadata": {
        "id": "dQHGIqMey29W"
      },
      "execution_count": 8,
      "outputs": []
    },
    {
      "cell_type": "code",
      "source": [
        "y_dev.value_counts()"
      ],
      "metadata": {
        "colab": {
          "base_uri": "https://localhost:8080/"
        },
        "id": "xHyyQjxF-cPi",
        "outputId": "d851bfc2-80bc-40a5-8860-33293aac56e6"
      },
      "execution_count": 9,
      "outputs": [
        {
          "output_type": "execute_result",
          "data": {
            "text/plain": [
              "6    1814\n",
              "5    1358\n",
              "7     686\n",
              "4     135\n",
              "8     121\n",
              "3      19\n",
              "9       3\n",
              "Name: quality, dtype: int64"
            ]
          },
          "metadata": {},
          "execution_count": 9
        }
      ]
    },
    {
      "cell_type": "markdown",
      "source": [
        "**PreProcessing**"
      ],
      "metadata": {
        "id": "l_1nugXvn8Ol"
      }
    },
    {
      "cell_type": "code",
      "source": [
        "scaler = MinMaxScaler()\n",
        "# Reconstructing the dataset\n",
        "feature_names=['type', 'fixed acidity',\n",
        "               'volatile acidity','citric acid',\n",
        "               'residual sugar','chlorides',\n",
        "               'free sulfur dioxide', 'total sulfur dioxide',\n",
        "               'density','pH',\n",
        "               'sulphates','alcohol']\n",
        "preprocess = make_column_transformer((StandardScaler(),feature_names))"
      ],
      "metadata": {
        "id": "tfNsAi-NPEL4"
      },
      "execution_count": 10,
      "outputs": []
    },
    {
      "cell_type": "markdown",
      "source": [
        "## Model Building and Evaluation"
      ],
      "metadata": {
        "id": "GTHA7ntqy6HT"
      }
    },
    {
      "cell_type": "markdown",
      "source": [
        "### 1. Linear Regression"
      ],
      "metadata": {
        "id": "Itl2gBouAmk1"
      }
    },
    {
      "cell_type": "code",
      "source": [
        "scalerMethod = StandardScaler().fit(X_dev)\n",
        "X_dev = scalerMethod.transform(X_dev)\n",
        "X_test = scalerMethod.transform(X_test)\n",
        "X_val = scalerMethod.transform(X_val)"
      ],
      "metadata": {
        "id": "dXsVijEwDLkj"
      },
      "execution_count": 11,
      "outputs": []
    },
    {
      "cell_type": "code",
      "source": [
        "#Creating the linear regression model and fitting the data to it\n",
        "regressor=LinearRegression()\n",
        "regressor.fit(X_dev,y_dev)\n",
        "y_prediction_dev=regressor.predict(X_dev)\n",
        "y_prediction_val=regressor.predict(X_val)\n",
        "y_prediction_test=regressor.predict(X_test)"
      ],
      "metadata": {
        "id": "cpOhs8YYDzYn"
      },
      "execution_count": 12,
      "outputs": []
    },
    {
      "cell_type": "code",
      "source": [
        "# The coefficients\n",
        "print(\"Coefficients: \\n\", regressor.coef_)\n",
        "# The mean squared error\n",
        "print(\"Mean squared error Dev: %.2f\" % mean_squared_error(y_dev, y_prediction_dev))\n",
        "print(\"Mean squared error Val: %.2f\" % mean_squared_error(y_val, y_prediction_val))\n",
        "print(\"Mean squared error Test: %.2f\" % mean_squared_error(y_test, y_prediction_test))\n",
        "# The coefficient of determination: 1 is perfect prediction\n",
        "print('R-score is %s'%regressor.score(X_test,y_test))"
      ],
      "metadata": {
        "colab": {
          "base_uri": "https://localhost:8080/"
        },
        "id": "y0dOgRayD_Zr",
        "outputId": "bd7a2c80-7f70-4c5d-9ec6-08f9f2d633b7"
      },
      "execution_count": 13,
      "outputs": [
        {
          "output_type": "stream",
          "name": "stdout",
          "text": [
            "Coefficients: \n",
            " [-0.16113435  0.1019041  -0.25062365 -0.01816997  0.30128976 -0.03817047\n",
            "  0.07499674 -0.05690527 -0.29698666  0.07086468  0.10985997  0.25909074]\n",
            "Mean squared error Dev: 0.54\n",
            "Mean squared error Val: 0.53\n",
            "Mean squared error Test: 0.52\n",
            "R-score is 0.34512650409498813\n"
          ]
        }
      ]
    },
    {
      "cell_type": "markdown",
      "source": [
        "MSE obtained from Linear Regression is 0.52. Now we will check the MSE baseline from taking an average of the quality, to check how well the model did."
      ],
      "metadata": {
        "id": "_j3iBCrZHuL0"
      }
    },
    {
      "cell_type": "code",
      "source": [
        "baseline_mean=y_dev.mean(axis=0)\n",
        "print(\"MSE Baseline: Dev\",(np.square(([baseline_mean]*y_dev.shape[0]) - y_dev)).mean(axis=0))\n",
        "print(\"MSE Baseline: Val\",(np.square(([baseline_mean]*y_val.shape[0]) - y_val)).mean(axis=0))\n",
        "print(\"MSE Baseline: Test\",(np.square(([baseline_mean]*y_test.shape[0]) - y_test)).mean(axis=0))"
      ],
      "metadata": {
        "colab": {
          "base_uri": "https://localhost:8080/"
        },
        "id": "NMsduxU2H3Ta",
        "outputId": "55cafc84-4eb6-4d92-b888-cf38b8fb833b"
      },
      "execution_count": 14,
      "outputs": [
        {
          "output_type": "stream",
          "name": "stdout",
          "text": [
            "MSE Baseline: Dev 0.7569447302358336\n",
            "MSE Baseline: Val 0.7473455697765432\n",
            "MSE Baseline: Test 0.792444482023038\n"
          ]
        }
      ]
    },
    {
      "cell_type": "markdown",
      "source": [
        "Since the MSE has reduced with the model, we can conclude that it performs better than baseline."
      ],
      "metadata": {
        "id": "6cBuX31yLPnM"
      }
    },
    {
      "cell_type": "markdown",
      "source": [
        "We will now add cross validation to this method."
      ],
      "metadata": {
        "id": "Vlu37X3MEnZX"
      }
    },
    {
      "cell_type": "code",
      "source": [
        "from sklearn.model_selection import cross_val_score\n",
        "regressor2=LinearRegression()\n",
        "#Computing score using 5 fold cross validation method. cv is used to determine the folds ie 5\n",
        "scores=cross_val_score(regressor2,X,y,cv=5)\n",
        "print(scores.mean())\n",
        "print(scores)"
      ],
      "metadata": {
        "colab": {
          "base_uri": "https://localhost:8080/"
        },
        "id": "0mvzJnYKEqoV",
        "outputId": "ec5de7c8-9cac-45c1-abaa-bb51dde62425"
      },
      "execution_count": 15,
      "outputs": [
        {
          "output_type": "stream",
          "name": "stdout",
          "text": [
            "0.26037662338970957\n",
            "[0.21278101 0.26220749 0.30696016 0.2340613  0.28587316]\n"
          ]
        }
      ]
    },
    {
      "cell_type": "markdown",
      "source": [
        "We now train a model with Lasso Regression."
      ],
      "metadata": {
        "id": "IEL1HaccLxxY"
      }
    },
    {
      "cell_type": "code",
      "source": [
        "from sklearn import linear_model\n",
        "reg = linear_model.Lasso(alpha=0.1)\n",
        "reg.fit(X_dev,y_dev)\n",
        "y_prediction_dev=reg.predict(X_dev)\n",
        "y_prediction_val=reg.predict(X_val)\n",
        "y_prediction_test=reg.predict(X_test)\n",
        "# The coefficients\n",
        "print(\"Coefficients: \\n\", reg.coef_)\n",
        "# The mean squared error\n",
        "print(\"Mean squared error Dev: %.2f\" % mean_squared_error(y_dev, y_prediction_dev))\n",
        "print(\"Mean squared error Val: %.2f\" % mean_squared_error(y_val, y_prediction_val))\n",
        "print(\"Mean squared error Test: %.2f\" % mean_squared_error(y_test, y_prediction_test))\n",
        "# The coefficient of determination: 1 is perfect prediction\n",
        "print('R-score is %s'%reg.score(X_test,y_test))"
      ],
      "metadata": {
        "colab": {
          "base_uri": "https://localhost:8080/"
        },
        "id": "uKEoBm3YL3eV",
        "outputId": "2d1ff021-1755-437a-fb56-dfcd1da01c5f"
      },
      "execution_count": 16,
      "outputs": [
        {
          "output_type": "stream",
          "name": "stdout",
          "text": [
            "Coefficients: \n",
            " [ 0.         -0.         -0.128905    0.          0.         -0.\n",
            "  0.          0.         -0.          0.          0.          0.26333723]\n",
            "Mean squared error Dev: 0.59\n",
            "Mean squared error Val: 0.58\n",
            "Mean squared error Test: 0.58\n",
            "R-score is 0.2723028761630918\n"
          ]
        }
      ]
    },
    {
      "cell_type": "markdown",
      "source": [
        "We now train a model with Ridge Regression."
      ],
      "metadata": {
        "id": "KbeNGmXaPEjG"
      }
    },
    {
      "cell_type": "code",
      "source": [
        "from sklearn import linear_model\n",
        "reg = linear_model.Ridge()\n",
        "reg.fit(X_dev,y_dev)\n",
        "y_prediction_dev=reg.predict(X_dev)\n",
        "y_prediction_val=reg.predict(X_val)\n",
        "y_prediction_test=reg.predict(X_test)\n",
        "# The coefficients\n",
        "print(\"Coefficients: \\n\", reg.coef_)\n",
        "# The mean squared error\n",
        "print(\"Mean squared error Dev: %.2f\" % mean_squared_error(y_dev, y_prediction_dev))\n",
        "print(\"Mean squared error Val: %.2f\" % mean_squared_error(y_val, y_prediction_val))\n",
        "print(\"Mean squared error Test: %.2f\" % mean_squared_error(y_test, y_prediction_test))\n",
        "# The coefficient of determination: 1 is perfect prediction\n",
        "print('R-score is %s'%reg.score(X_test,y_test))"
      ],
      "metadata": {
        "colab": {
          "base_uri": "https://localhost:8080/"
        },
        "id": "RLKaf2I5PHi9",
        "outputId": "d69e5997-bffb-4cb2-f27e-6deef5756474"
      },
      "execution_count": 17,
      "outputs": [
        {
          "output_type": "stream",
          "name": "stdout",
          "text": [
            "Coefficients: \n",
            " [-0.16024206  0.10104314 -0.25054121 -0.01814446  0.29969723 -0.03824354\n",
            "  0.07509682 -0.05709621 -0.29467882  0.0703503   0.10971797  0.25994016]\n",
            "Mean squared error Dev: 0.54\n",
            "Mean squared error Val: 0.53\n",
            "Mean squared error Test: 0.52\n",
            "R-score is 0.34510621736442115\n"
          ]
        }
      ]
    },
    {
      "cell_type": "markdown",
      "source": [
        "We now train an elastic net model with cross validation."
      ],
      "metadata": {
        "id": "ufhZEj86RSLe"
      }
    },
    {
      "cell_type": "code",
      "source": [
        "from sklearn.linear_model import ElasticNetCV\n",
        "reg = ElasticNetCV(cv=5,random_state=42)\n",
        "reg.fit(X_dev,y_dev)\n",
        "y_prediction_dev=reg.predict(X_dev)\n",
        "y_prediction_val=reg.predict(X_val)\n",
        "y_prediction_test=reg.predict(X_test)\n",
        "# The coefficients\n",
        "print(\"Coefficients: \\n\", reg.coef_)\n",
        "# The mean squared error\n",
        "print(\"Mean squared error Dev: %.2f\" % mean_squared_error(y_dev, y_prediction_dev))\n",
        "print(\"Mean squared error Val: %.2f\" % mean_squared_error(y_val, y_prediction_val))\n",
        "print(\"Mean squared error Test: %.2f\" % mean_squared_error(y_test, y_prediction_test))\n",
        "# The coefficient of determination: 1 is perfect prediction\n",
        "print('R-score is %s'%reg.score(X_test,y_test))"
      ],
      "metadata": {
        "colab": {
          "base_uri": "https://localhost:8080/"
        },
        "id": "kTGcljDXRVM6",
        "outputId": "2a349b62-34c4-4c5b-ab28-60d95329496d"
      },
      "execution_count": 18,
      "outputs": [
        {
          "output_type": "stream",
          "name": "stdout",
          "text": [
            "Coefficients: \n",
            " [-0.1413063   0.07794818 -0.24855002 -0.01591119  0.26136386 -0.03834496\n",
            "  0.07411228 -0.05753589 -0.23912561  0.0567514   0.10511547  0.28132065]\n",
            "Mean squared error Dev: 0.54\n",
            "Mean squared error Val: 0.53\n",
            "Mean squared error Test: 0.52\n",
            "R-score is 0.3442887707277895\n"
          ]
        }
      ]
    },
    {
      "cell_type": "markdown",
      "source": [
        "Now, we visualize the weights of each feature from the Elastic net model."
      ],
      "metadata": {
        "id": "f04joxPiX2mm"
      }
    },
    {
      "cell_type": "code",
      "source": [
        "plt.figure(figsize=(27,10))\n",
        "plt.xlabel('features')\n",
        "plt.ylabel('weights')\n",
        "plt.xticks(rotation = 90)\n",
        "plt.bar(['type', 'fixed acidity','volatile acidity','citric acid','residual sugar','chlorides','free sulfur dioxide', 'total sulfur dioxide', 'density','pH','sulphates','alcohol'],reg.coef_)"
      ],
      "metadata": {
        "colab": {
          "base_uri": "https://localhost:8080/",
          "height": 599
        },
        "id": "4v2GWh1_V5ji",
        "outputId": "af52931f-7635-4259-ccce-6dadb87d0100"
      },
      "execution_count": 19,
      "outputs": [
        {
          "output_type": "execute_result",
          "data": {
            "text/plain": [
              "<BarContainer object of 12 artists>"
            ]
          },
          "metadata": {},
          "execution_count": 19
        },
        {
          "output_type": "display_data",
          "data": {
            "text/plain": [
              "<Figure size 1944x720 with 1 Axes>"
            ],
            "image/png": "[encoded data removed]"
          },
          "metadata": {
            "needs_background": "light"
          }
        }
      ]
    }
  ],
  "metadata": {
    "colab": {
      "collapsed_sections": [],
      "name": "Linear Regression.ipynb",
      "provenance": []
    },
    "kernelspec": {
      "display_name": "Python 3",
      "name": "python3"
    },
    "language_info": {
      "name": "python"
    }
  },
  "nbformat": 4,
  "nbformat_minor": 0
}