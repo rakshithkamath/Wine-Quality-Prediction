{
 "cells": [
  {
   "cell_type": "markdown",
   "metadata": {
    "id": "vJFPcg6YG-o4"
   },
   "source": [
    "**Prediction of Wine Quality based on its Manufacturing Ingredients**"
   ]
  },
  {
   "cell_type": "markdown",
   "metadata": {
    "id": "mFooBPjEHN1X"
   },
   "source": [
    "## 1. Data Importing and Initial Exploration"
   ]
  },
  {
   "cell_type": "code",
   "execution_count": 1,
   "metadata": {
    "id": "sI3GujVh7j2G"
   },
   "outputs": [
    {
     "name": "stderr",
     "output_type": "stream",
     "text": [
      "/Users/yuezhang/anaconda3/lib/python3.8/site-packages/xgboost/compat.py:36: FutureWarning: pandas.Int64Index is deprecated and will be removed from pandas in a future version. Use pandas.Index with the appropriate dtype instead.\n",
      "  from pandas import MultiIndex, Int64Index\n"
     ]
    }
   ],
   "source": [
    "import pandas as pd\n",
    "import numpy as np\n",
    "import matplotlib.pyplot as plt\n",
    "import seaborn as sns\n",
    "import pickle\n",
    "from sklearn.model_selection import train_test_split\n",
    "from sklearn.metrics import mean_squared_error\n",
    "from sklearn import model_selection\n",
    "from pprint import pprint\n",
    "from sklearn.compose import make_column_transformer\n",
    "from sklearn.pipeline import Pipeline, make_pipeline\n",
    "from sklearn.linear_model import LogisticRegression\n",
    "from sklearn.model_selection import GridSearchCV, StratifiedKFold\n",
    "from sklearn.metrics import plot_confusion_matrix\n",
    "\n",
    "from xgboost import XGBClassifier\n",
    "from xgboost import plot_importance\n",
    "import lightgbm as lgb\n",
    "from sklearn.ensemble import RandomForestClassifier\n",
    "from sklearn.calibration import CalibratedClassifierCV, calibration_curve, CalibrationDisplay\n",
    "from imblearn.over_sampling import SMOTE \n",
    "from sklearn.metrics import accuracy_score, recall_score, precision_score, f1_score, roc_curve, RocCurveDisplay, precision_recall_curve, PrecisionRecallDisplay, average_precision_score\n"
   ]
  },
  {
   "cell_type": "code",
   "execution_count": 2,
   "metadata": {
    "id": "6JNhSbh5r2X_"
   },
   "outputs": [],
   "source": [
    "import warnings\n",
    "warnings.filterwarnings('ignore')\n",
    "warnings.simplefilter(action='ignore', category=FutureWarning)\n",
    "warnings.simplefilter(action='ignore', category=UserWarning)\n",
    "\n",
    "\n",
    "def fxn():\n",
    "    warnings.warn(\"deprecated\", DeprecationWarning)\n",
    "\n",
    "with warnings.catch_warnings():\n",
    "    warnings.simplefilter(\"ignore\")\n",
    "    fxn()"
   ]
  },
  {
   "cell_type": "code",
   "execution_count": 3,
   "metadata": {
    "colab": {
     "base_uri": "https://localhost:8080/",
     "height": 206
    },
    "id": "UNdGexLvcjtA",
    "outputId": "36af7006-77cf-414d-e9a5-efa2ff46b4cd"
   },
   "outputs": [
    {
     "data": {
      "text/html": [
       "<div>\n",
       "<style scoped>\n",
       "    .dataframe tbody tr th:only-of-type {\n",
       "        vertical-align: middle;\n",
       "    }\n",
       "\n",
       "    .dataframe tbody tr th {\n",
       "        vertical-align: top;\n",
       "    }\n",
       "\n",
       "    .dataframe thead th {\n",
       "        text-align: right;\n",
       "    }\n",
       "</style>\n",
       "<table border=\"1\" class=\"dataframe\">\n",
       "  <thead>\n",
       "    <tr style=\"text-align: right;\">\n",
       "      <th></th>\n",
       "      <th>Unnamed: 0</th>\n",
       "      <th>type</th>\n",
       "      <th>fixed acidity</th>\n",
       "      <th>volatile acidity</th>\n",
       "      <th>citric acid</th>\n",
       "      <th>residual sugar</th>\n",
       "      <th>chlorides</th>\n",
       "      <th>free sulfur dioxide</th>\n",
       "      <th>total sulfur dioxide</th>\n",
       "      <th>density</th>\n",
       "      <th>pH</th>\n",
       "      <th>sulphates</th>\n",
       "      <th>alcohol</th>\n",
       "      <th>quality</th>\n",
       "      <th>good</th>\n",
       "    </tr>\n",
       "  </thead>\n",
       "  <tbody>\n",
       "    <tr>\n",
       "      <th>0</th>\n",
       "      <td>0</td>\n",
       "      <td>1</td>\n",
       "      <td>7.0</td>\n",
       "      <td>0.27</td>\n",
       "      <td>0.36</td>\n",
       "      <td>20.7</td>\n",
       "      <td>0.045</td>\n",
       "      <td>45.0</td>\n",
       "      <td>170.0</td>\n",
       "      <td>1.0010</td>\n",
       "      <td>3.00</td>\n",
       "      <td>0.45</td>\n",
       "      <td>8.8</td>\n",
       "      <td>6</td>\n",
       "      <td>0</td>\n",
       "    </tr>\n",
       "    <tr>\n",
       "      <th>1</th>\n",
       "      <td>1</td>\n",
       "      <td>1</td>\n",
       "      <td>6.3</td>\n",
       "      <td>0.30</td>\n",
       "      <td>0.34</td>\n",
       "      <td>1.6</td>\n",
       "      <td>0.049</td>\n",
       "      <td>14.0</td>\n",
       "      <td>132.0</td>\n",
       "      <td>0.9940</td>\n",
       "      <td>3.30</td>\n",
       "      <td>0.49</td>\n",
       "      <td>9.5</td>\n",
       "      <td>6</td>\n",
       "      <td>0</td>\n",
       "    </tr>\n",
       "    <tr>\n",
       "      <th>2</th>\n",
       "      <td>2</td>\n",
       "      <td>1</td>\n",
       "      <td>8.1</td>\n",
       "      <td>0.28</td>\n",
       "      <td>0.40</td>\n",
       "      <td>6.9</td>\n",
       "      <td>0.050</td>\n",
       "      <td>30.0</td>\n",
       "      <td>97.0</td>\n",
       "      <td>0.9951</td>\n",
       "      <td>3.26</td>\n",
       "      <td>0.44</td>\n",
       "      <td>10.1</td>\n",
       "      <td>6</td>\n",
       "      <td>0</td>\n",
       "    </tr>\n",
       "    <tr>\n",
       "      <th>3</th>\n",
       "      <td>3</td>\n",
       "      <td>1</td>\n",
       "      <td>7.2</td>\n",
       "      <td>0.23</td>\n",
       "      <td>0.32</td>\n",
       "      <td>8.5</td>\n",
       "      <td>0.058</td>\n",
       "      <td>47.0</td>\n",
       "      <td>186.0</td>\n",
       "      <td>0.9956</td>\n",
       "      <td>3.19</td>\n",
       "      <td>0.40</td>\n",
       "      <td>9.9</td>\n",
       "      <td>6</td>\n",
       "      <td>0</td>\n",
       "    </tr>\n",
       "    <tr>\n",
       "      <th>4</th>\n",
       "      <td>4</td>\n",
       "      <td>1</td>\n",
       "      <td>7.2</td>\n",
       "      <td>0.23</td>\n",
       "      <td>0.32</td>\n",
       "      <td>8.5</td>\n",
       "      <td>0.058</td>\n",
       "      <td>47.0</td>\n",
       "      <td>186.0</td>\n",
       "      <td>0.9956</td>\n",
       "      <td>3.19</td>\n",
       "      <td>0.40</td>\n",
       "      <td>9.9</td>\n",
       "      <td>6</td>\n",
       "      <td>0</td>\n",
       "    </tr>\n",
       "  </tbody>\n",
       "</table>\n",
       "</div>"
      ],
      "text/plain": [
       "   Unnamed: 0  type  fixed acidity  volatile acidity  citric acid  \\\n",
       "0           0     1            7.0              0.27         0.36   \n",
       "1           1     1            6.3              0.30         0.34   \n",
       "2           2     1            8.1              0.28         0.40   \n",
       "3           3     1            7.2              0.23         0.32   \n",
       "4           4     1            7.2              0.23         0.32   \n",
       "\n",
       "   residual sugar  chlorides  free sulfur dioxide  total sulfur dioxide  \\\n",
       "0            20.7      0.045                 45.0                 170.0   \n",
       "1             1.6      0.049                 14.0                 132.0   \n",
       "2             6.9      0.050                 30.0                  97.0   \n",
       "3             8.5      0.058                 47.0                 186.0   \n",
       "4             8.5      0.058                 47.0                 186.0   \n",
       "\n",
       "   density    pH  sulphates  alcohol  quality  good  \n",
       "0   1.0010  3.00       0.45      8.8        6     0  \n",
       "1   0.9940  3.30       0.49      9.5        6     0  \n",
       "2   0.9951  3.26       0.44     10.1        6     0  \n",
       "3   0.9956  3.19       0.40      9.9        6     0  \n",
       "4   0.9956  3.19       0.40      9.9        6     0  "
      ]
     },
     "execution_count": 3,
     "metadata": {},
     "output_type": "execute_result"
    }
   ],
   "source": [
    "df =  pd.read_csv('https://raw.githubusercontent.com/rjrahul24/AppliedML-Project/main/data/wine_quality_pre.csv',sep = \",\")\n",
    "df.head()"
   ]
  },
  {
   "cell_type": "markdown",
   "metadata": {
    "id": "i3zpUI0PyqL0"
   },
   "source": [
    "## 2. Data Split and Preparation"
   ]
  },
  {
   "cell_type": "code",
   "execution_count": 4,
   "metadata": {
    "id": "dQHGIqMey29W"
   },
   "outputs": [],
   "source": [
    "X = df[['type', 'fixed acidity','volatile acidity','citric acid','residual sugar','chlorides','free sulfur dioxide', 'total sulfur dioxide', 'density','pH','sulphates','alcohol']]\n",
    "y = df['good']"
   ]
  },
  {
   "cell_type": "code",
   "execution_count": 5,
   "metadata": {
    "colab": {
     "base_uri": "https://localhost:8080/"
    },
    "id": "iOb_h0HpcWLE",
    "outputId": "55490945-faa2-4356-b05e-5be928db2bf5",
    "scrolled": false
   },
   "outputs": [
    {
     "data": {
      "text/plain": [
       "0    5192\n",
       "1    1271\n",
       "Name: good, dtype: int64"
      ]
     },
     "execution_count": 5,
     "metadata": {},
     "output_type": "execute_result"
    }
   ],
   "source": [
    "y.value_counts()"
   ]
  },
  {
   "cell_type": "code",
   "execution_count": 6,
   "metadata": {},
   "outputs": [],
   "source": [
    "# Split into Dev (80%) and Test (20%) Datasets, Random Forest doesn't need separate validation dataset\n",
    "X_dev, X_test, y_dev, y_test = train_test_split(X, y, train_size = 0.8, random_state = 42, stratify=y)"
   ]
  },
  {
   "cell_type": "markdown",
   "metadata": {},
   "source": [
    "#### Use SMOTE to handle imbalanced dataset"
   ]
  },
  {
   "cell_type": "code",
   "execution_count": 7,
   "metadata": {},
   "outputs": [
    {
     "name": "stdout",
     "output_type": "stream",
     "text": [
      "development data distribution of labels before SMOTE: \n"
     ]
    },
    {
     "data": {
      "text/plain": [
       "0    4153\n",
       "1    1017\n",
       "Name: good, dtype: int64"
      ]
     },
     "execution_count": 7,
     "metadata": {},
     "output_type": "execute_result"
    }
   ],
   "source": [
    "print('development data distribution of labels before SMOTE: ')\n",
    "y_dev.value_counts()"
   ]
  },
  {
   "cell_type": "code",
   "execution_count": 8,
   "metadata": {},
   "outputs": [],
   "source": [
    "# smote = SMOTE()\n",
    "# X_dev_SMOTE, y_dev_SMOTE = smote.fit_resample(X_dev, y_dev)\n",
    "# print(f'development data distribution of labels after SMOTE:')\n",
    "# y_dev_SMOTE.value_counts()\n",
    "# X_dev = X_dev_SMOTE\n",
    "# y_dev = y_dev_SMOTE"
   ]
  },
  {
   "cell_type": "markdown",
   "metadata": {
    "id": "l_1nugXvn8Ol"
   },
   "source": [
    "**Pre-processing**\n",
    "\n",
    "No scaling needed for random forest."
   ]
  },
  {
   "cell_type": "markdown",
   "metadata": {
    "id": "0B2y9QrTy5Ft"
   },
   "source": [
    "## 3. Model Selection, Training\n",
    "### Dummy Classifier\n",
    "To define baseline performance, we began with a dummy classifier. "
   ]
  },
  {
   "cell_type": "code",
   "execution_count": 9,
   "metadata": {
    "colab": {
     "base_uri": "https://localhost:8080/"
    },
    "id": "E5eq-y6dy_65",
    "outputId": "59eff714-a885-4a41-d9e3-1dd8f34aba4d"
   },
   "outputs": [
    {
     "name": "stdout",
     "output_type": "stream",
     "text": [
      "Baseline Accuracy =  0.8035576179427688\n"
     ]
    }
   ],
   "source": [
    "from sklearn.dummy import DummyClassifier\n",
    "dummy_classifier = DummyClassifier(strategy='most_frequent',random_state=42)\n",
    "dummy_classifier.fit(X_dev,y_dev)\n",
    "acc_baseline = dummy_classifier.score(X_test,y_test)\n",
    "print(\"Baseline Accuracy = \", acc_baseline)"
   ]
  },
  {
   "cell_type": "markdown",
   "metadata": {
    "id": "lTSDfMUczAtc"
   },
   "source": [
    "### Random Forest\n",
    "No tuning\n"
   ]
  },
  {
   "cell_type": "code",
   "execution_count": 10,
   "metadata": {
    "colab": {
     "base_uri": "https://localhost:8080/"
    },
    "id": "ylseElx42CcL",
    "outputId": "2b4b0ecb-a8b2-4643-b5c6-9d6a78df7ce4"
   },
   "outputs": [
    {
     "data": {
      "text/plain": [
       "RandomForestClassifier(n_jobs=-1)"
      ]
     },
     "execution_count": 10,
     "metadata": {},
     "output_type": "execute_result"
    }
   ],
   "source": [
    "rf = RandomForestClassifier(n_jobs = -1)\n",
    "rf.fit(X_dev, y_dev)"
   ]
  },
  {
   "cell_type": "code",
   "execution_count": 11,
   "metadata": {
    "colab": {
     "base_uri": "https://localhost:8080/"
    },
    "id": "-bNckeeO3EQH",
    "outputId": "4bbc99b7-705b-4e17-abe3-2088511aaeac"
   },
   "outputs": [
    {
     "name": "stdout",
     "output_type": "stream",
     "text": [
      "Accuracy: 0.8963650425367363\n",
      "Recall: 0.610236220472441\n",
      "Precision: 0.8157894736842105\n",
      "F-1 Score: 0.6981981981981983\n"
     ]
    }
   ],
   "source": [
    "rf_pred = rf.predict(X_test)\n",
    "\n",
    "recall = recall_score(y_test,rf_pred)\n",
    "precision = precision_score(y_test,rf_pred)\n",
    "\n",
    "print(f'Accuracy: {accuracy_score(y_test,rf_pred)}')\n",
    "print(f'Recall: {recall}')\n",
    "print(f'Precision: {precision}')\n",
    "print(f'F-1 Score: {f1_score(y_test,rf_pred)}')"
   ]
  },
  {
   "cell_type": "code",
   "execution_count": 12,
   "metadata": {
    "colab": {
     "base_uri": "https://localhost:8080/",
     "height": 350
    },
    "id": "y0vOd8nkGPMf",
    "outputId": "34f286a4-feeb-4cc1-8f7a-ba9a3ae4b02f"
   },
   "outputs": [
    {
     "data": {
      "image/png": "[encoded data removed]",
      "text/plain": [
       "<Figure size 432x288 with 2 Axes>"
      ]
     },
     "metadata": {
      "needs_background": "light"
     },
     "output_type": "display_data"
    }
   ],
   "source": [
    "# Making the Confusion Matrix\n",
    "plot_confusion_matrix(rf, X_test, y_test)  \n",
    "plt.title(\"Confusion Matrix for test dataset for Random Forest without tuning\")\n",
    "plt.show()"
   ]
  },
  {
   "cell_type": "code",
   "execution_count": 13,
   "metadata": {
    "colab": {
     "base_uri": "https://localhost:8080/"
    },
    "id": "xmExzjh3QD2c",
    "outputId": "8e595d7d-81e5-4143-af9e-c07df45174c2"
   },
   "outputs": [
    {
     "data": {
      "text/plain": [
       "{'bootstrap': True,\n",
       " 'ccp_alpha': 0.0,\n",
       " 'class_weight': None,\n",
       " 'criterion': 'gini',\n",
       " 'max_depth': None,\n",
       " 'max_features': 'auto',\n",
       " 'max_leaf_nodes': None,\n",
       " 'max_samples': None,\n",
       " 'min_impurity_decrease': 0.0,\n",
       " 'min_samples_leaf': 1,\n",
       " 'min_samples_split': 2,\n",
       " 'min_weight_fraction_leaf': 0.0,\n",
       " 'n_estimators': 100,\n",
       " 'n_jobs': -1,\n",
       " 'oob_score': False,\n",
       " 'random_state': None,\n",
       " 'verbose': 0,\n",
       " 'warm_start': False}"
      ]
     },
     "execution_count": 13,
     "metadata": {},
     "output_type": "execute_result"
    }
   ],
   "source": [
    "rf.get_params()"
   ]
  },
  {
   "cell_type": "markdown",
   "metadata": {
    "id": "Cz4ipw-uE-Os"
   },
   "source": [
    "Tuning hyperparameters"
   ]
  },
  {
   "cell_type": "code",
   "execution_count": 14,
   "metadata": {
    "colab": {
     "base_uri": "https://localhost:8080/"
    },
    "id": "1oJuZ3quFGau",
    "outputId": "dcb4f11d-0e2e-46fe-8cd3-21d66f66dc13"
   },
   "outputs": [
    {
     "data": {
      "text/plain": [
       "Pipeline(steps=[('gridsearchcv',\n",
       "                 GridSearchCV(cv=5,\n",
       "                              estimator=RandomForestClassifier(n_jobs=-1,\n",
       "                                                               warm_start=True),\n",
       "                              n_jobs=-1,\n",
       "                              param_grid={'max_depth': [5, 10, 15],\n",
       "                                          'n_estimators': [100, 250, 400]}))])"
      ]
     },
     "execution_count": 14,
     "metadata": {},
     "output_type": "execute_result"
    }
   ],
   "source": [
    "parameter_grid = {'n_estimators':[100, 250, 400],\n",
    "                  'max_depth':[5, 10, 15]}\n",
    "\n",
    "rf_2 = make_pipeline(\n",
    "    GridSearchCV(RandomForestClassifier(n_jobs = -1,warm_start=True), \n",
    "                 parameter_grid, \n",
    "                 cv=5, \n",
    "                 n_jobs=-1\n",
    "                 )\n",
    ")\n",
    "\n",
    "rf_2.fit(X_dev, y_dev)"
   ]
  },
  {
   "cell_type": "code",
   "execution_count": 15,
   "metadata": {
    "colab": {
     "base_uri": "https://localhost:8080/"
    },
    "id": "MU-bAOdsPXT3",
    "outputId": "5780759b-c1e4-4fbc-d75a-ecfbff0b5214"
   },
   "outputs": [
    {
     "name": "stdout",
     "output_type": "stream",
     "text": [
      "Best Score:0.88008\n",
      "Best Params:{'max_depth': 15, 'n_estimators': 100}\n",
      "Test score:0.88708\n"
     ]
    }
   ],
   "source": [
    "rf_2_grid_search_results = rf_2.named_steps['gridsearchcv']\n",
    "\n",
    "print(f'Best Score:{rf_2_grid_search_results.best_score_:0.5f}')\n",
    "print(f'Best Params:{rf_2_grid_search_results.best_params_ }')\n",
    "print(f'Test score:{rf_2.score(X_test,y_test):0.5f}')"
   ]
  },
  {
   "cell_type": "code",
   "execution_count": 16,
   "metadata": {
    "colab": {
     "base_uri": "https://localhost:8080/",
     "height": 350
    },
    "id": "0ijNCdfXl5uH",
    "outputId": "4378d466-72a3-4ea0-8291-8353547d2e5f",
    "scrolled": false
   },
   "outputs": [
    {
     "data": {
      "image/png": "[encoded data removed]",
      "text/plain": [
       "<Figure size 432x288 with 2 Axes>"
      ]
     },
     "metadata": {
      "needs_background": "light"
     },
     "output_type": "display_data"
    }
   ],
   "source": [
    "# Making the Confusion Matrix\n",
    "plot_confusion_matrix(rf_2, X_test, y_test)  \n",
    "plt.title(\"Confusion Matrix for test dataset for Random Forest with tuning\")\n",
    "plt.show()"
   ]
  },
  {
   "cell_type": "code",
   "execution_count": 17,
   "metadata": {},
   "outputs": [],
   "source": [
    "pickle.dump(rf_2, open('../models/RandomForest.sav', 'wb'))"
   ]
  },
  {
   "cell_type": "markdown",
   "metadata": {
    "id": "_POaI0x3oQzb"
   },
   "source": [
    "### XGBoost"
   ]
  },
  {
   "cell_type": "code",
   "execution_count": 18,
   "metadata": {
    "colab": {
     "base_uri": "https://localhost:8080/"
    },
    "id": "I620iMbsmNjN",
    "outputId": "22e0187c-e3ec-47e0-c88c-9ebcd10df8bb"
   },
   "outputs": [
    {
     "data": {
      "text/plain": [
       "Pipeline(steps=[('gridsearchcv',\n",
       "                 GridSearchCV(cv=5,\n",
       "                              estimator=XGBClassifier(base_score=None,\n",
       "                                                      booster=None,\n",
       "                                                      colsample_bylevel=None,\n",
       "                                                      colsample_bynode=None,\n",
       "                                                      colsample_bytree=None,\n",
       "                                                      enable_categorical=False,\n",
       "                                                      eval_metric='logloss',\n",
       "                                                      gamma=None, gpu_id=None,\n",
       "                                                      importance_type=None,\n",
       "                                                      interaction_constraints=None,\n",
       "                                                      learning_rate=None,\n",
       "                                                      max_delta_step=None,\n",
       "                                                      max_depth=None,\n",
       "                                                      min_ch...\n",
       "                                                      monotone_constraints=None,\n",
       "                                                      n_estimators=100,\n",
       "                                                      n_jobs=-1,\n",
       "                                                      num_parallel_tree=None,\n",
       "                                                      predictor=None,\n",
       "                                                      random_state=None,\n",
       "                                                      reg_alpha=None,\n",
       "                                                      reg_lambda=None,\n",
       "                                                      scale_pos_weight=None,\n",
       "                                                      silent=True,\n",
       "                                                      subsample=None,\n",
       "                                                      tree_method=None,\n",
       "                                                      validate_parameters=None,\n",
       "                                                      verbosity=0),\n",
       "                              n_jobs=-1,\n",
       "                              param_grid={'learning_rate': [0.05, 0.1, 0.15],\n",
       "                                          'max_depth': [5, 10, 15],\n",
       "                                          'n_estimators': [100, 250, 400]}))])"
      ]
     },
     "execution_count": 18,
     "metadata": {},
     "output_type": "execute_result"
    }
   ],
   "source": [
    "parameter_grid = {'n_estimators':[100, 250, 400],\n",
    "                  'max_depth':[5, 10, 15],\n",
    "                  'learning_rate':[0.05,0.1,0.15]}\n",
    "\n",
    "eval_metric= ['logloss']\n",
    "xgb = make_pipeline(\n",
    "    GridSearchCV(XGBClassifier(n_jobs = -1,eval_metric='logloss',verbosity = 0,silent=True), \n",
    "                 parameter_grid, \n",
    "                 cv=5, \n",
    "                 n_jobs=-1))\n",
    "\n",
    "xgb.fit(X_dev, y_dev)"
   ]
  },
  {
   "cell_type": "code",
   "execution_count": 19,
   "metadata": {
    "colab": {
     "base_uri": "https://localhost:8080/"
    },
    "id": "GcZTAE35vuj0",
    "outputId": "a4a68113-d592-4b4d-f9f2-2bbfc492235f"
   },
   "outputs": [
    {
     "name": "stdout",
     "output_type": "stream",
     "text": [
      "XGBoost Best Score:0.87911\n",
      "XGBoost Best Params:{'learning_rate': 0.1, 'max_depth': 15, 'n_estimators': 250}\n",
      "XGBoost Test score:0.89172\n"
     ]
    }
   ],
   "source": [
    "grid_search_XGB = xgb.named_steps[\"gridsearchcv\"]\n",
    "print(f'XGBoost Best Score:{grid_search_XGB.best_score_:0.5f}')\n",
    "print(f'XGBoost Best Params:{grid_search_XGB.best_params_ }')\n",
    "print(f'XGBoost Test score:{xgb.score(X_test,y_test):0.5f}')"
   ]
  },
  {
   "cell_type": "code",
   "execution_count": 20,
   "metadata": {
    "colab": {
     "base_uri": "https://localhost:8080/"
    },
    "id": "E5MysBMsxmCq",
    "outputId": "af70aa20-1a1c-4623-d348-21a85ebe40e9"
   },
   "outputs": [
    {
     "name": "stdout",
     "output_type": "stream",
     "text": [
      "Accuracy: 0.8917246713070379\n",
      "Recall: (0.6023622047244095,)\n",
      "Precision: 0.796875\n",
      "F-1 Score: 0.6860986547085203\n"
     ]
    }
   ],
   "source": [
    "xgb_y_pred = xgb.predict(X_test)\n",
    "recall = recall_score(y_test,xgb_y_pred), \n",
    "precision = precision_score(y_test,xgb_y_pred)\n",
    "print(f'Accuracy: {accuracy_score(y_test,xgb_y_pred)}')\n",
    "print(f'Recall: {recall}')\n",
    "print(f'Precision: {precision}')\n",
    "print(f'F-1 Score: {f1_score(y_test,xgb_y_pred)}')"
   ]
  },
  {
   "cell_type": "code",
   "execution_count": 21,
   "metadata": {
    "colab": {
     "base_uri": "https://localhost:8080/",
     "height": 279
    },
    "id": "1V9_2ygVxwFT",
    "outputId": "45459844-e598-4eea-c57b-50dab0e4677e",
    "scrolled": true
   },
   "outputs": [
    {
     "data": {
      "image/png": "[encoded data removed]",
      "text/plain": [
       "<Figure size 432x288 with 1 Axes>"
      ]
     },
     "metadata": {
      "needs_background": "light"
     },
     "output_type": "display_data"
    }
   ],
   "source": [
    "probs = xgb.predict_proba(X_test)[:,1]\n",
    "PrecisionRecallDisplay.from_predictions(y_test, probs)\n",
    "plt.plot(recall,precision);"
   ]
  },
  {
   "cell_type": "code",
   "execution_count": 22,
   "metadata": {},
   "outputs": [
    {
     "data": {
      "text/plain": [
       "<sklearn.metrics._plot.roc_curve.RocCurveDisplay at 0x7fa20d485dc0>"
      ]
     },
     "execution_count": 22,
     "metadata": {},
     "output_type": "execute_result"
    },
    {
     "data": {
      "image/png": "[encoded data removed]",
      "text/plain": [
       "<Figure size 432x288 with 1 Axes>"
      ]
     },
     "metadata": {
      "needs_background": "light"
     },
     "output_type": "display_data"
    }
   ],
   "source": [
    "fp, tp, thresholds = roc_curve(y_test, probs, pos_label = 1)\n",
    "disp = RocCurveDisplay(fpr = fp, tpr = tp)\n",
    "disp.plot()"
   ]
  },
  {
   "cell_type": "code",
   "execution_count": 23,
   "metadata": {
    "scrolled": true
   },
   "outputs": [
    {
     "data": {
      "image/png": "[encoded data removed]",
      "text/plain": [
       "<Figure size 432x288 with 2 Axes>"
      ]
     },
     "metadata": {
      "needs_background": "light"
     },
     "output_type": "display_data"
    }
   ],
   "source": [
    "# Making the Confusion Matrix\n",
    "plot_confusion_matrix(xgb, X_test, y_test)  \n",
    "plt.title(\"Confusion Matrix for test dataset for XGBoost with tuning\")\n",
    "plt.show()"
   ]
  },
  {
   "cell_type": "code",
   "execution_count": 24,
   "metadata": {},
   "outputs": [
    {
     "data": {
      "text/plain": [
       "<AxesSubplot:title={'center':'Feature importance'}, xlabel='F score', ylabel='Features'>"
      ]
     },
     "execution_count": 24,
     "metadata": {},
     "output_type": "execute_result"
    },
    {
     "data": {
      "image/png": "[encoded data removed]",
      "text/plain": [
       "<Figure size 432x288 with 1 Axes>"
      ]
     },
     "metadata": {
      "needs_background": "light"
     },
     "output_type": "display_data"
    }
   ],
   "source": [
    "plot_importance(grid_search_XGB.best_estimator_)"
   ]
  },
  {
   "cell_type": "code",
   "execution_count": 25,
   "metadata": {},
   "outputs": [],
   "source": [
    "pickle.dump(xgb, open('../models/XGBoost.sav', 'wb'))"
   ]
  },
  {
   "cell_type": "markdown",
   "metadata": {},
   "source": [
    "### LightGBM"
   ]
  },
  {
   "cell_type": "code",
   "execution_count": null,
   "metadata": {},
   "outputs": [],
   "source": [
    "parameter_grid = {'num_leaves': [31, 63, 127],\n",
    "                  'max_depth': [-1, 10, 20, 40],\n",
    "                  'n_estimators': [100,200,300]}\n",
    "\n",
    "lgbm = GridSearchCV(lgb.LGBMClassifier(random_state = 42), \n",
    "                    parameter_grid, \n",
    "                    cv = 5, \n",
    "                    error_score = 'raise')\n",
    "lgbm.fit(X_dev,y_dev)"
   ]
  },
  {
   "cell_type": "code",
   "execution_count": null,
   "metadata": {},
   "outputs": [],
   "source": [
    "print(f'LightGBM Best Score:{lgbm.best_score_:0.5f}')\n",
    "print(f'LightGBM Best Params:{lgbm.best_params_ }')\n",
    "print(f'LightGBM Test score:{lgbm.score(X_test,y_test):0.5f}')"
   ]
  },
  {
   "cell_type": "code",
   "execution_count": null,
   "metadata": {},
   "outputs": [],
   "source": [
    "lgbm_y_pred = lgbm.predict(X_test)\n",
    "recall = recall_score(y_test,lgbm_y_pred), \n",
    "precision = precision_score(y_test,lgbm_y_pred)\n",
    "print(f'Accuracy: {accuracy_score(y_test,lgbm_y_pred)}')\n",
    "print(f'Recall: {recall[0]}')\n",
    "print(f'Precision: {precision}')\n",
    "print(f'F-1 Score: {f1_score(y_test,lgbm_y_pred)}')"
   ]
  },
  {
   "cell_type": "code",
   "execution_count": null,
   "metadata": {},
   "outputs": [],
   "source": [
    "probs = lgbm.predict_proba(X_test)[:,1]\n",
    "PrecisionRecallDisplay.from_predictions(y_test, probs)\n",
    "plt.plot(recall,precision);"
   ]
  },
  {
   "cell_type": "code",
   "execution_count": null,
   "metadata": {},
   "outputs": [],
   "source": [
    "fp, tp, thresholds = roc_curve(y_test, probs, pos_label = 1)\n",
    "disp = RocCurveDisplay(fpr = fp, tpr = tp)\n",
    "disp.plot()"
   ]
  },
  {
   "cell_type": "code",
   "execution_count": null,
   "metadata": {},
   "outputs": [],
   "source": [
    "# Making the Confusion Matrix\n",
    "plot_confusion_matrix(lgbm, X_test, y_test)  \n",
    "plt.title(\"Confusion Matrix for test dataset for LightGBM with tuning\")\n",
    "plt.show()"
   ]
  },
  {
   "cell_type": "code",
   "execution_count": null,
   "metadata": {},
   "outputs": [],
   "source": [
    "lgb.plot_importance(lgbm.best_estimator_)"
   ]
  },
  {
   "cell_type": "code",
   "execution_count": null,
   "metadata": {},
   "outputs": [],
   "source": [
    "pickle.dump(lgbm, open('../models/LightGBM.sav', 'wb'))"
   ]
  },
  {
   "cell_type": "markdown",
   "metadata": {},
   "source": [
    "### Compare the performance of all models"
   ]
  },
  {
   "cell_type": "code",
   "execution_count": null,
   "metadata": {},
   "outputs": [],
   "source": [
    "def CompilePRCurves(models, MainThresh = 0.6, ExtraThresh = [0.4, 0.8, 0.9], ExtraPrec = False):    \n",
    "    sns.set(rc = {'figure.figsize':(10,7)})\n",
    "    fig, ax = plt.subplots()\n",
    "    \n",
    "    #init metrics to capture\n",
    "    AP = dict()\n",
    "    f1 = dict()\n",
    "    if ExtraPrec:\n",
    "        keys = [MainThresh] + ExtraThresh\n",
    "        keys.sort()\n",
    "        all_recalls = {k: dict() for k in keys}\n",
    "    else:\n",
    "        all_recalls = {MainThresh: dict()}\n",
    "    \n",
    "    #Generate main PR Curves\n",
    "    for name in models:\n",
    "        fpath = \"../models/\"\n",
    "        model_file = fpath + models[name]\n",
    "        model = pickle.load(open(model_file,'rb'))\n",
    "        probabilities = model.predict_proba(X_test)[:,1]   #X_test is a global variable specific to this notebook\n",
    "        y_preds = model.predict(X_test)\n",
    "        precision, recall, thresholds = precision_recall_curve(y_test, probabilities) #y_test is another global variable specific to this notebook\n",
    "        ax.plot(recall, precision, linewidth=2)\n",
    "        \n",
    "        for prec_thresh in all_recalls.keys():\n",
    "            rec_val = np.mean(recall[abs(precision - prec_thresh)<.001])\n",
    "            if not np.isnan(rec_val):\n",
    "                all_recalls[prec_thresh][name] = rec_val\n",
    "            else:\n",
    "                rec_val = np.mean(recall[abs(precision - prec_thresh)<.002]) #Get Recall when precision is at threshold within error of 0.002\n",
    "                all_recalls[prec_thresh][name] = rec_val\n",
    "                \n",
    "        AP[name] = average_precision_score(y_test, probabilities)   #record AP\n",
    "        f1[name] = f1_score(y_test, y_preds)   #record F1 score\n",
    "   \n",
    "    #Plot the recall point when precision is at the Main Precision Threshold (default 0.6)\n",
    "    prec_60_y = [MainThresh] * len(all_recalls[MainThresh].keys())\n",
    "    ax.plot(list(all_recalls[MainThresh].values()), prec_60_y, 'ro')    \n",
    "    ax.axhline(MainThresh,linewidth=1, color='k')\n",
    "    #Add other precision thresholds\n",
    "    for thresh in ExtraThresh:\n",
    "        ax.axhline(thresh, linewidth = 0.5, ls = '--', color = 'k')\n",
    "    \n",
    "    ax.set_xlabel(\"Recall (Positive Label: 1)\")\n",
    "    ax.set_ylabel(\"Precision (Positive Label : 1)\")\n",
    "    ax.set_title(\"Precision-Recall Curve for all Models\", {'fontsize':14})\n",
    "    ax.legend(list(models.keys()), loc=2 , bbox_to_anchor=(0.05, 0.5))\n",
    "    \n",
    "    plt.show()\n",
    "    \n",
    "    return AP, f1, all_recalls"
   ]
  },
  {
   "cell_type": "code",
   "execution_count": null,
   "metadata": {},
   "outputs": [],
   "source": [
    "models = {\n",
    "    \"Random Forest\": \"RandomForest.sav\",\n",
    "    \"XGBoost\": \"XGBoost.sav\",\n",
    "    \"LightGBM\": \"LightGBM.sav\"\n",
    "}\n",
    "\n",
    "\n",
    "f1, AP, all_recalls = CompilePRCurves(models, ExtraPrec = True)"
   ]
  }
 ],
 "metadata": {
  "colab": {
   "collapsed_sections": [],
   "name": "AML Project Random Forest.ipynb",
   "provenance": []
  },
  "kernelspec": {
   "display_name": "Python 3 (ipykernel)",
   "language": "python",
   "name": "python3"
  },
  "language_info": {
   "codemirror_mode": {
    "name": "ipython",
    "version": 3
   },
   "file_extension": ".py",
   "mimetype": "text/x-python",
   "name": "python",
   "nbconvert_exporter": "python",
   "pygments_lexer": "ipython3",
   "version": "3.8.2"
  }
 },
 "nbformat": 4,
 "nbformat_minor": 1
}
